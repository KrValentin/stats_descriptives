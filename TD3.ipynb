{
 "cells": [
  {
   "cell_type": "markdown",
   "metadata": {},
   "source": [
    "# TD 3 | Étude de la marge EGT d'un turboréacteur\n",
    "\n",
    "---\n",
    "\n",
    "Objectifs du TD :\n",
    "\n",
    "* pratiquer sur un premier use case concret d'analyse de données de moteurs d'avion\n",
    "* fonctions glissantes pandas (_rolling_)\n",
    "* régression linéaire\n",
    "\n",
    "---"
   ]
  },
  {
   "cell_type": "markdown",
   "metadata": {},
   "source": [
    "La table fournie contient les données moteurs disposant de l'information \"marge EGT\" (egthdm) issue\n",
    "des rapports ACARS. Il s'agit donc uniquement de rapports extraits au décollage (TAKEOFF). On a\n",
    "récupéré l'ensemble des rapports des moteurs livrés depuis avril 2016."
   ]
  },
  {
   "cell_type": "code",
   "execution_count": 1,
   "metadata": {},
   "outputs": [],
   "source": [
    "import os\n",
    "import pandas as pd \n",
    "import numpy as np\n",
    "import matplotlib.pyplot as plt\n",
    "plt.rcParams[\"figure.figsize\"] = (20, 10)"
   ]
  },
  {
   "cell_type": "markdown",
   "metadata": {},
   "source": [
    "## 1. Chargement et nettoyage des données\n",
    "\n",
    "#### 1.1. Chargez les données ACARS à l'aide de la méthode pandas `read_excel`. Explorez les propriétés générales du jeu de données.\n",
    "\n",
    "Fichier de données : `./data/accars_b.xlsx`."
   ]
  },
  {
   "cell_type": "code",
   "execution_count": 2,
   "metadata": {},
   "outputs": [],
   "source": [
    "#!git clone https://github.com/MadaneA/MACS3-Statistiques-Descriptives-TDs.git"
   ]
  },
  {
   "cell_type": "code",
   "execution_count": 3,
   "metadata": {},
   "outputs": [],
   "source": [
    "import os\n",
    "#os.chdir('MACS3-Statistiques-Descriptives-TDs')\n",
    "rawdir = '/home/valentin/Documents/Cours/MACS/MACS3/madane/MACS3-Statistiques-Descriptives-TDs'\n",
    "os.chdir(rawdir)"
   ]
  },
  {
   "cell_type": "code",
   "execution_count": 4,
   "metadata": {},
   "outputs": [
    {
     "data": {
      "text/html": [
       "<div>\n",
       "<style scoped>\n",
       "    .dataframe tbody tr th:only-of-type {\n",
       "        vertical-align: middle;\n",
       "    }\n",
       "\n",
       "    .dataframe tbody tr th {\n",
       "        vertical-align: top;\n",
       "    }\n",
       "\n",
       "    .dataframe thead th {\n",
       "        text-align: right;\n",
       "    }\n",
       "</style>\n",
       "<table border=\"1\" class=\"dataframe\">\n",
       "  <thead>\n",
       "    <tr style=\"text-align: right;\">\n",
       "      <th></th>\n",
       "      <th>flight_phase</th>\n",
       "      <th>engine_number</th>\n",
       "      <th>engine_type</th>\n",
       "      <th>aircraft_number</th>\n",
       "      <th>engine_position</th>\n",
       "      <th>airline_classif_environment</th>\n",
       "      <th>brat</th>\n",
       "      <th>cas</th>\n",
       "      <th>cycles</th>\n",
       "      <th>delfn</th>\n",
       "      <th>...</th>\n",
       "      <th>ztoil</th>\n",
       "      <th>zvb1f</th>\n",
       "      <th>zvb1r</th>\n",
       "      <th>zvb2f</th>\n",
       "      <th>zvb2r</th>\n",
       "      <th>zvsv</th>\n",
       "      <th>zwbp1</th>\n",
       "      <th>zwbp2</th>\n",
       "      <th>zwf36</th>\n",
       "      <th>zxm</th>\n",
       "    </tr>\n",
       "  </thead>\n",
       "  <tbody>\n",
       "    <tr>\n",
       "      <th>0</th>\n",
       "      <td>CLIMB</td>\n",
       "      <td>186</td>\n",
       "      <td>10</td>\n",
       "      <td>192</td>\n",
       "      <td>1</td>\n",
       "      <td>Neutral</td>\n",
       "      <td>1.0</td>\n",
       "      <td>151.0</td>\n",
       "      <td>6.0</td>\n",
       "      <td>-0.1146</td>\n",
       "      <td>...</td>\n",
       "      <td>88.0</td>\n",
       "      <td>0.57</td>\n",
       "      <td>0.73</td>\n",
       "      <td>0.12</td>\n",
       "      <td>0.13</td>\n",
       "      <td>8.9</td>\n",
       "      <td>5.0</td>\n",
       "      <td>5.0</td>\n",
       "      <td>5335.0</td>\n",
       "      <td>0.637</td>\n",
       "    </tr>\n",
       "    <tr>\n",
       "      <th>1</th>\n",
       "      <td>CLIMB</td>\n",
       "      <td>186</td>\n",
       "      <td>10</td>\n",
       "      <td>192</td>\n",
       "      <td>1</td>\n",
       "      <td>Neutral</td>\n",
       "      <td>1.0</td>\n",
       "      <td>143.0</td>\n",
       "      <td>7.0</td>\n",
       "      <td>-0.2464</td>\n",
       "      <td>...</td>\n",
       "      <td>90.8</td>\n",
       "      <td>0.58</td>\n",
       "      <td>0.76</td>\n",
       "      <td>0.15</td>\n",
       "      <td>0.10</td>\n",
       "      <td>9.0</td>\n",
       "      <td>5.6</td>\n",
       "      <td>5.6</td>\n",
       "      <td>4987.0</td>\n",
       "      <td>0.624</td>\n",
       "    </tr>\n",
       "    <tr>\n",
       "      <th>2</th>\n",
       "      <td>CLIMB</td>\n",
       "      <td>186</td>\n",
       "      <td>10</td>\n",
       "      <td>192</td>\n",
       "      <td>1</td>\n",
       "      <td>Neutral</td>\n",
       "      <td>1.0</td>\n",
       "      <td>163.0</td>\n",
       "      <td>8.0</td>\n",
       "      <td>NaN</td>\n",
       "      <td>...</td>\n",
       "      <td>89.0</td>\n",
       "      <td>0.28</td>\n",
       "      <td>0.48</td>\n",
       "      <td>0.16</td>\n",
       "      <td>0.05</td>\n",
       "      <td>10.1</td>\n",
       "      <td>5.0</td>\n",
       "      <td>5.2</td>\n",
       "      <td>4251.0</td>\n",
       "      <td>0.530</td>\n",
       "    </tr>\n",
       "    <tr>\n",
       "      <th>3</th>\n",
       "      <td>CLIMB</td>\n",
       "      <td>186</td>\n",
       "      <td>10</td>\n",
       "      <td>192</td>\n",
       "      <td>1</td>\n",
       "      <td>Neutral</td>\n",
       "      <td>1.0</td>\n",
       "      <td>152.0</td>\n",
       "      <td>9.0</td>\n",
       "      <td>NaN</td>\n",
       "      <td>...</td>\n",
       "      <td>87.0</td>\n",
       "      <td>0.44</td>\n",
       "      <td>0.67</td>\n",
       "      <td>0.14</td>\n",
       "      <td>0.08</td>\n",
       "      <td>8.9</td>\n",
       "      <td>5.6</td>\n",
       "      <td>5.6</td>\n",
       "      <td>5356.0</td>\n",
       "      <td>0.380</td>\n",
       "    </tr>\n",
       "    <tr>\n",
       "      <th>4</th>\n",
       "      <td>CLIMB</td>\n",
       "      <td>186</td>\n",
       "      <td>10</td>\n",
       "      <td>192</td>\n",
       "      <td>1</td>\n",
       "      <td>Neutral</td>\n",
       "      <td>1.0</td>\n",
       "      <td>154.0</td>\n",
       "      <td>10.0</td>\n",
       "      <td>NaN</td>\n",
       "      <td>...</td>\n",
       "      <td>85.3</td>\n",
       "      <td>0.26</td>\n",
       "      <td>0.48</td>\n",
       "      <td>0.25</td>\n",
       "      <td>0.06</td>\n",
       "      <td>10.5</td>\n",
       "      <td>5.6</td>\n",
       "      <td>5.6</td>\n",
       "      <td>NaN</td>\n",
       "      <td>0.543</td>\n",
       "    </tr>\n",
       "  </tbody>\n",
       "</table>\n",
       "<p>5 rows × 50 columns</p>\n",
       "</div>"
      ],
      "text/plain": [
       "  flight_phase  engine_number  engine_type  aircraft_number  engine_position  \\\n",
       "0        CLIMB            186           10              192                1   \n",
       "1        CLIMB            186           10              192                1   \n",
       "2        CLIMB            186           10              192                1   \n",
       "3        CLIMB            186           10              192                1   \n",
       "4        CLIMB            186           10              192                1   \n",
       "\n",
       "  airline_classif_environment  brat    cas  cycles   delfn  ...  ztoil  zvb1f  \\\n",
       "0                     Neutral   1.0  151.0     6.0 -0.1146  ...   88.0   0.57   \n",
       "1                     Neutral   1.0  143.0     7.0 -0.2464  ...   90.8   0.58   \n",
       "2                     Neutral   1.0  163.0     8.0     NaN  ...   89.0   0.28   \n",
       "3                     Neutral   1.0  152.0     9.0     NaN  ...   87.0   0.44   \n",
       "4                     Neutral   1.0  154.0    10.0     NaN  ...   85.3   0.26   \n",
       "\n",
       "   zvb1r  zvb2f  zvb2r  zvsv  zwbp1  zwbp2   zwf36    zxm  \n",
       "0   0.73   0.12   0.13   8.9    5.0    5.0  5335.0  0.637  \n",
       "1   0.76   0.15   0.10   9.0    5.6    5.6  4987.0  0.624  \n",
       "2   0.48   0.16   0.05  10.1    5.0    5.2  4251.0  0.530  \n",
       "3   0.67   0.14   0.08   8.9    5.6    5.6  5356.0  0.380  \n",
       "4   0.48   0.25   0.06  10.5    5.6    5.6     NaN  0.543  \n",
       "\n",
       "[5 rows x 50 columns]"
      ]
     },
     "execution_count": 4,
     "metadata": {},
     "output_type": "execute_result"
    }
   ],
   "source": [
    "import pandas as pd\n",
    "df = pd.read_excel('data/accars_b.xlsx')\n",
    "df.head()"
   ]
  },
  {
   "cell_type": "markdown",
   "metadata": {},
   "source": [
    "#### 1.2. Y a-t-il des valeurs manquantes ? Si oui, décrivez leur répartition et affichez le nombre de valeurs manquantes par colonne sous forme d'un bar plot."
   ]
  },
  {
   "cell_type": "code",
   "execution_count": 5,
   "metadata": {},
   "outputs": [
    {
     "data": {
      "text/plain": [
       "Text(0, 0.5, 'number of NaN')"
      ]
     },
     "execution_count": 5,
     "metadata": {},
     "output_type": "execute_result"
    },
    {
     "data": {
      "image/png": "[encoded data removed]",
      "text/plain": [
       "<Figure size 1440x720 with 1 Axes>"
      ]
     },
     "metadata": {
      "needs_background": "light"
     },
     "output_type": "display_data"
    }
   ],
   "source": [
    "df.isna() # il y a effectivement des nan\n",
    "nan_columns = (df.isna()*1.0).sum(axis = 0) \n",
    "plt.bar(nan_columns.index ,nan_columns.values)\n",
    "plt.xticks(rotation=90)\n",
    "plt.xlabel(\"Variables\")\n",
    "plt.ylabel('number of NaN')"
   ]
  },
  {
   "cell_type": "markdown",
   "metadata": {},
   "source": [
    "#### 1.3. Ne gardez que les lignes où le nombre de cycles (variable `cycles`) et la marge EGT (variable `egthdm`) sont présentes."
   ]
  },
  {
   "cell_type": "code",
   "execution_count": 6,
   "metadata": {},
   "outputs": [
    {
     "data": {
      "text/html": [
       "<div>\n",
       "<style scoped>\n",
       "    .dataframe tbody tr th:only-of-type {\n",
       "        vertical-align: middle;\n",
       "    }\n",
       "\n",
       "    .dataframe tbody tr th {\n",
       "        vertical-align: top;\n",
       "    }\n",
       "\n",
       "    .dataframe thead th {\n",
       "        text-align: right;\n",
       "    }\n",
       "</style>\n",
       "<table border=\"1\" class=\"dataframe\">\n",
       "  <thead>\n",
       "    <tr style=\"text-align: right;\">\n",
       "      <th></th>\n",
       "      <th>flight_phase</th>\n",
       "      <th>engine_number</th>\n",
       "      <th>engine_type</th>\n",
       "      <th>aircraft_number</th>\n",
       "      <th>engine_position</th>\n",
       "      <th>airline_classif_environment</th>\n",
       "      <th>brat</th>\n",
       "      <th>cas</th>\n",
       "      <th>cycles</th>\n",
       "      <th>delfn</th>\n",
       "      <th>...</th>\n",
       "      <th>ztoil</th>\n",
       "      <th>zvb1f</th>\n",
       "      <th>zvb1r</th>\n",
       "      <th>zvb2f</th>\n",
       "      <th>zvb2r</th>\n",
       "      <th>zvsv</th>\n",
       "      <th>zwbp1</th>\n",
       "      <th>zwbp2</th>\n",
       "      <th>zwf36</th>\n",
       "      <th>zxm</th>\n",
       "    </tr>\n",
       "  </thead>\n",
       "  <tbody>\n",
       "    <tr>\n",
       "      <th>104</th>\n",
       "      <td>TAKEOFF</td>\n",
       "      <td>186</td>\n",
       "      <td>10</td>\n",
       "      <td>192</td>\n",
       "      <td>1</td>\n",
       "      <td>Neutral</td>\n",
       "      <td>0.0</td>\n",
       "      <td>88.0</td>\n",
       "      <td>5.0</td>\n",
       "      <td>23.8191</td>\n",
       "      <td>...</td>\n",
       "      <td>84.3</td>\n",
       "      <td>0.39</td>\n",
       "      <td>0.58</td>\n",
       "      <td>0.05</td>\n",
       "      <td>0.15</td>\n",
       "      <td>12.3</td>\n",
       "      <td>0.2</td>\n",
       "      <td>0.0</td>\n",
       "      <td>NaN</td>\n",
       "      <td>0.133</td>\n",
       "    </tr>\n",
       "    <tr>\n",
       "      <th>105</th>\n",
       "      <td>TAKEOFF</td>\n",
       "      <td>186</td>\n",
       "      <td>10</td>\n",
       "      <td>192</td>\n",
       "      <td>1</td>\n",
       "      <td>Neutral</td>\n",
       "      <td>0.0</td>\n",
       "      <td>93.0</td>\n",
       "      <td>6.0</td>\n",
       "      <td>25.4038</td>\n",
       "      <td>...</td>\n",
       "      <td>95.1</td>\n",
       "      <td>0.24</td>\n",
       "      <td>0.69</td>\n",
       "      <td>0.16</td>\n",
       "      <td>0.10</td>\n",
       "      <td>11.1</td>\n",
       "      <td>0.2</td>\n",
       "      <td>0.0</td>\n",
       "      <td>NaN</td>\n",
       "      <td>0.148</td>\n",
       "    </tr>\n",
       "    <tr>\n",
       "      <th>106</th>\n",
       "      <td>TAKEOFF</td>\n",
       "      <td>186</td>\n",
       "      <td>10</td>\n",
       "      <td>192</td>\n",
       "      <td>1</td>\n",
       "      <td>Neutral</td>\n",
       "      <td>0.0</td>\n",
       "      <td>92.0</td>\n",
       "      <td>7.0</td>\n",
       "      <td>22.7509</td>\n",
       "      <td>...</td>\n",
       "      <td>81.6</td>\n",
       "      <td>0.23</td>\n",
       "      <td>0.46</td>\n",
       "      <td>0.13</td>\n",
       "      <td>0.11</td>\n",
       "      <td>12.1</td>\n",
       "      <td>0.3</td>\n",
       "      <td>0.0</td>\n",
       "      <td>NaN</td>\n",
       "      <td>0.140</td>\n",
       "    </tr>\n",
       "    <tr>\n",
       "      <th>107</th>\n",
       "      <td>TAKEOFF</td>\n",
       "      <td>186</td>\n",
       "      <td>10</td>\n",
       "      <td>192</td>\n",
       "      <td>1</td>\n",
       "      <td>Neutral</td>\n",
       "      <td>0.0</td>\n",
       "      <td>87.0</td>\n",
       "      <td>8.0</td>\n",
       "      <td>22.1533</td>\n",
       "      <td>...</td>\n",
       "      <td>87.8</td>\n",
       "      <td>0.59</td>\n",
       "      <td>0.80</td>\n",
       "      <td>0.12</td>\n",
       "      <td>0.13</td>\n",
       "      <td>11.1</td>\n",
       "      <td>0.2</td>\n",
       "      <td>0.0</td>\n",
       "      <td>NaN</td>\n",
       "      <td>0.140</td>\n",
       "    </tr>\n",
       "    <tr>\n",
       "      <th>108</th>\n",
       "      <td>TAKEOFF</td>\n",
       "      <td>186</td>\n",
       "      <td>10</td>\n",
       "      <td>192</td>\n",
       "      <td>1</td>\n",
       "      <td>Neutral</td>\n",
       "      <td>0.0</td>\n",
       "      <td>88.0</td>\n",
       "      <td>9.0</td>\n",
       "      <td>23.8673</td>\n",
       "      <td>...</td>\n",
       "      <td>79.3</td>\n",
       "      <td>0.43</td>\n",
       "      <td>0.47</td>\n",
       "      <td>0.13</td>\n",
       "      <td>0.17</td>\n",
       "      <td>12.5</td>\n",
       "      <td>0.3</td>\n",
       "      <td>0.0</td>\n",
       "      <td>NaN</td>\n",
       "      <td>0.136</td>\n",
       "    </tr>\n",
       "    <tr>\n",
       "      <th>...</th>\n",
       "      <td>...</td>\n",
       "      <td>...</td>\n",
       "      <td>...</td>\n",
       "      <td>...</td>\n",
       "      <td>...</td>\n",
       "      <td>...</td>\n",
       "      <td>...</td>\n",
       "      <td>...</td>\n",
       "      <td>...</td>\n",
       "      <td>...</td>\n",
       "      <td>...</td>\n",
       "      <td>...</td>\n",
       "      <td>...</td>\n",
       "      <td>...</td>\n",
       "      <td>...</td>\n",
       "      <td>...</td>\n",
       "      <td>...</td>\n",
       "      <td>...</td>\n",
       "      <td>...</td>\n",
       "      <td>...</td>\n",
       "      <td>...</td>\n",
       "    </tr>\n",
       "    <tr>\n",
       "      <th>46575</th>\n",
       "      <td>TAKEOFF</td>\n",
       "      <td>289</td>\n",
       "      <td>7</td>\n",
       "      <td>153</td>\n",
       "      <td>2</td>\n",
       "      <td>Neutral</td>\n",
       "      <td>1.0</td>\n",
       "      <td>NaN</td>\n",
       "      <td>19.0</td>\n",
       "      <td>13.0466</td>\n",
       "      <td>...</td>\n",
       "      <td>NaN</td>\n",
       "      <td>NaN</td>\n",
       "      <td>NaN</td>\n",
       "      <td>NaN</td>\n",
       "      <td>NaN</td>\n",
       "      <td>NaN</td>\n",
       "      <td>NaN</td>\n",
       "      <td>NaN</td>\n",
       "      <td>NaN</td>\n",
       "      <td>0.292</td>\n",
       "    </tr>\n",
       "    <tr>\n",
       "      <th>46576</th>\n",
       "      <td>TAKEOFF</td>\n",
       "      <td>289</td>\n",
       "      <td>7</td>\n",
       "      <td>153</td>\n",
       "      <td>2</td>\n",
       "      <td>Neutral</td>\n",
       "      <td>1.0</td>\n",
       "      <td>NaN</td>\n",
       "      <td>44.0</td>\n",
       "      <td>12.7586</td>\n",
       "      <td>...</td>\n",
       "      <td>NaN</td>\n",
       "      <td>NaN</td>\n",
       "      <td>NaN</td>\n",
       "      <td>NaN</td>\n",
       "      <td>NaN</td>\n",
       "      <td>NaN</td>\n",
       "      <td>NaN</td>\n",
       "      <td>NaN</td>\n",
       "      <td>NaN</td>\n",
       "      <td>0.286</td>\n",
       "    </tr>\n",
       "    <tr>\n",
       "      <th>46577</th>\n",
       "      <td>TAKEOFF</td>\n",
       "      <td>289</td>\n",
       "      <td>7</td>\n",
       "      <td>153</td>\n",
       "      <td>2</td>\n",
       "      <td>Neutral</td>\n",
       "      <td>1.0</td>\n",
       "      <td>NaN</td>\n",
       "      <td>67.0</td>\n",
       "      <td>14.8291</td>\n",
       "      <td>...</td>\n",
       "      <td>NaN</td>\n",
       "      <td>NaN</td>\n",
       "      <td>NaN</td>\n",
       "      <td>NaN</td>\n",
       "      <td>NaN</td>\n",
       "      <td>NaN</td>\n",
       "      <td>NaN</td>\n",
       "      <td>NaN</td>\n",
       "      <td>NaN</td>\n",
       "      <td>0.304</td>\n",
       "    </tr>\n",
       "    <tr>\n",
       "      <th>46599</th>\n",
       "      <td>TAKEOFF</td>\n",
       "      <td>328</td>\n",
       "      <td>7</td>\n",
       "      <td>154</td>\n",
       "      <td>2</td>\n",
       "      <td>Neutral</td>\n",
       "      <td>1.0</td>\n",
       "      <td>NaN</td>\n",
       "      <td>32.0</td>\n",
       "      <td>12.7096</td>\n",
       "      <td>...</td>\n",
       "      <td>NaN</td>\n",
       "      <td>NaN</td>\n",
       "      <td>NaN</td>\n",
       "      <td>NaN</td>\n",
       "      <td>NaN</td>\n",
       "      <td>NaN</td>\n",
       "      <td>NaN</td>\n",
       "      <td>NaN</td>\n",
       "      <td>NaN</td>\n",
       "      <td>0.286</td>\n",
       "    </tr>\n",
       "    <tr>\n",
       "      <th>46600</th>\n",
       "      <td>TAKEOFF</td>\n",
       "      <td>328</td>\n",
       "      <td>7</td>\n",
       "      <td>154</td>\n",
       "      <td>2</td>\n",
       "      <td>Neutral</td>\n",
       "      <td>1.0</td>\n",
       "      <td>NaN</td>\n",
       "      <td>51.0</td>\n",
       "      <td>15.8444</td>\n",
       "      <td>...</td>\n",
       "      <td>NaN</td>\n",
       "      <td>NaN</td>\n",
       "      <td>NaN</td>\n",
       "      <td>NaN</td>\n",
       "      <td>NaN</td>\n",
       "      <td>NaN</td>\n",
       "      <td>NaN</td>\n",
       "      <td>NaN</td>\n",
       "      <td>NaN</td>\n",
       "      <td>0.256</td>\n",
       "    </tr>\n",
       "  </tbody>\n",
       "</table>\n",
       "<p>15374 rows × 50 columns</p>\n",
       "</div>"
      ],
      "text/plain": [
       "      flight_phase  engine_number  engine_type  aircraft_number  \\\n",
       "104        TAKEOFF            186           10              192   \n",
       "105        TAKEOFF            186           10              192   \n",
       "106        TAKEOFF            186           10              192   \n",
       "107        TAKEOFF            186           10              192   \n",
       "108        TAKEOFF            186           10              192   \n",
       "...            ...            ...          ...              ...   \n",
       "46575      TAKEOFF            289            7              153   \n",
       "46576      TAKEOFF            289            7              153   \n",
       "46577      TAKEOFF            289            7              153   \n",
       "46599      TAKEOFF            328            7              154   \n",
       "46600      TAKEOFF            328            7              154   \n",
       "\n",
       "       engine_position airline_classif_environment  brat   cas  cycles  \\\n",
       "104                  1                     Neutral   0.0  88.0     5.0   \n",
       "105                  1                     Neutral   0.0  93.0     6.0   \n",
       "106                  1                     Neutral   0.0  92.0     7.0   \n",
       "107                  1                     Neutral   0.0  87.0     8.0   \n",
       "108                  1                     Neutral   0.0  88.0     9.0   \n",
       "...                ...                         ...   ...   ...     ...   \n",
       "46575                2                     Neutral   1.0   NaN    19.0   \n",
       "46576                2                     Neutral   1.0   NaN    44.0   \n",
       "46577                2                     Neutral   1.0   NaN    67.0   \n",
       "46599                2                     Neutral   1.0   NaN    32.0   \n",
       "46600                2                     Neutral   1.0   NaN    51.0   \n",
       "\n",
       "         delfn  ...  ztoil  zvb1f  zvb1r  zvb2f  zvb2r  zvsv  zwbp1  zwbp2  \\\n",
       "104    23.8191  ...   84.3   0.39   0.58   0.05   0.15  12.3    0.2    0.0   \n",
       "105    25.4038  ...   95.1   0.24   0.69   0.16   0.10  11.1    0.2    0.0   \n",
       "106    22.7509  ...   81.6   0.23   0.46   0.13   0.11  12.1    0.3    0.0   \n",
       "107    22.1533  ...   87.8   0.59   0.80   0.12   0.13  11.1    0.2    0.0   \n",
       "108    23.8673  ...   79.3   0.43   0.47   0.13   0.17  12.5    0.3    0.0   \n",
       "...        ...  ...    ...    ...    ...    ...    ...   ...    ...    ...   \n",
       "46575  13.0466  ...    NaN    NaN    NaN    NaN    NaN   NaN    NaN    NaN   \n",
       "46576  12.7586  ...    NaN    NaN    NaN    NaN    NaN   NaN    NaN    NaN   \n",
       "46577  14.8291  ...    NaN    NaN    NaN    NaN    NaN   NaN    NaN    NaN   \n",
       "46599  12.7096  ...    NaN    NaN    NaN    NaN    NaN   NaN    NaN    NaN   \n",
       "46600  15.8444  ...    NaN    NaN    NaN    NaN    NaN   NaN    NaN    NaN   \n",
       "\n",
       "       zwf36    zxm  \n",
       "104      NaN  0.133  \n",
       "105      NaN  0.148  \n",
       "106      NaN  0.140  \n",
       "107      NaN  0.140  \n",
       "108      NaN  0.136  \n",
       "...      ...    ...  \n",
       "46575    NaN  0.292  \n",
       "46576    NaN  0.286  \n",
       "46577    NaN  0.304  \n",
       "46599    NaN  0.286  \n",
       "46600    NaN  0.256  \n",
       "\n",
       "[15374 rows x 50 columns]"
      ]
     },
     "execution_count": 6,
     "metadata": {},
     "output_type": "execute_result"
    }
   ],
   "source": [
    "idx_cycle = df.cycles.isna()\n",
    "idx_egt = df.egthdm.isna()\n",
    "df2 = df[~(idx_egt + idx_cycle)]\n",
    "df2"
   ]
  },
  {
   "cell_type": "markdown",
   "metadata": {},
   "source": [
    "#### 1.4. Affichez les différents types de moteurs (indice : utilisez la méthode `unique()`)."
   ]
  },
  {
   "cell_type": "code",
   "execution_count": 7,
   "metadata": {},
   "outputs": [
    {
     "data": {
      "text/plain": [
       "array([10,  5,  7])"
      ]
     },
     "execution_count": 7,
     "metadata": {},
     "output_type": "execute_result"
    }
   ],
   "source": [
    "df2.engine_type.unique()"
   ]
  },
  {
   "cell_type": "markdown",
   "metadata": {},
   "source": [
    "#### 1.5. Sélectionnez uniquement les moteurs de type 10. Combien y a-t-il d'avions distincts ? Combien de vols par avion ? (attention : il y a 2 moteurs sur un avion)"
   ]
  },
  {
   "cell_type": "code",
   "execution_count": 8,
   "metadata": {},
   "outputs": [
    {
     "data": {
      "text/plain": [
       "126.0"
      ]
     },
     "execution_count": 8,
     "metadata": {},
     "output_type": "execute_result"
    }
   ],
   "source": [
    "len(df2.loc[df2['aircraft_number']== 192])/2"
   ]
  },
  {
   "cell_type": "code",
   "execution_count": 9,
   "metadata": {},
   "outputs": [
    {
     "name": "stdout",
     "output_type": "stream",
     "text": [
      "nombre d avion avec un moteur de type 10 :  5\n",
      "il y a 126 vols sur l avion numero 192\n",
      "il y a 97 vols sur l avion numero 14\n",
      "il y a 17 vols sur l avion numero 11\n",
      "il y a 110 vols sur l avion numero 190\n",
      "il y a 6 vols sur l avion numero 191\n"
     ]
    }
   ],
   "source": [
    "# selection des avions disctincts de type 10\n",
    "nb_avions_distincts = len((df2.loc[df2['engine_type']==10,'aircraft_number']).unique())\n",
    "print(f'nombre d avion avec un moteur de type 10 :  {nb_avions_distincts}')\n",
    "\n",
    "engine_number_sel = (df2.loc[df2['engine_type']==10,'aircraft_number']).unique()\n",
    "\n",
    "for aircraft in engine_number_sel :\n",
    "    number_of_flights = int(len(df2.loc[df2['aircraft_number']== aircraft])/2)\n",
    "    print(f'il y a {number_of_flights} vols sur l avion numero {aircraft}' )"
   ]
  },
  {
   "cell_type": "markdown",
   "metadata": {},
   "source": [
    "## 2. Étude de la marge EGT de l'avion 190\n",
    "\n",
    "#### 2.1. Récupérez les variables `engine_number`, nombre de cycles (`cycles`) et marge EGT (`egthdm`) pour l'avion identifié par le numéro 190."
   ]
  },
  {
   "cell_type": "code",
   "execution_count": 10,
   "metadata": {},
   "outputs": [
    {
     "data": {
      "text/html": [
       "<div>\n",
       "<style scoped>\n",
       "    .dataframe tbody tr th:only-of-type {\n",
       "        vertical-align: middle;\n",
       "    }\n",
       "\n",
       "    .dataframe tbody tr th {\n",
       "        vertical-align: top;\n",
       "    }\n",
       "\n",
       "    .dataframe thead th {\n",
       "        text-align: right;\n",
       "    }\n",
       "</style>\n",
       "<table border=\"1\" class=\"dataframe\">\n",
       "  <thead>\n",
       "    <tr style=\"text-align: right;\">\n",
       "      <th></th>\n",
       "      <th>engine_number</th>\n",
       "      <th>cycles</th>\n",
       "      <th>egthdm</th>\n",
       "    </tr>\n",
       "  </thead>\n",
       "  <tbody>\n",
       "    <tr>\n",
       "      <th>11398</th>\n",
       "      <td>179</td>\n",
       "      <td>98.0</td>\n",
       "      <td>52.0118</td>\n",
       "    </tr>\n",
       "    <tr>\n",
       "      <th>11399</th>\n",
       "      <td>180</td>\n",
       "      <td>69.0</td>\n",
       "      <td>57.6415</td>\n",
       "    </tr>\n",
       "    <tr>\n",
       "      <th>11400</th>\n",
       "      <td>180</td>\n",
       "      <td>75.0</td>\n",
       "      <td>48.7217</td>\n",
       "    </tr>\n",
       "    <tr>\n",
       "      <th>11755</th>\n",
       "      <td>179</td>\n",
       "      <td>0.0</td>\n",
       "      <td>37.6572</td>\n",
       "    </tr>\n",
       "    <tr>\n",
       "      <th>11756</th>\n",
       "      <td>179</td>\n",
       "      <td>1.0</td>\n",
       "      <td>37.2208</td>\n",
       "    </tr>\n",
       "    <tr>\n",
       "      <th>...</th>\n",
       "      <td>...</td>\n",
       "      <td>...</td>\n",
       "      <td>...</td>\n",
       "    </tr>\n",
       "    <tr>\n",
       "      <th>45809</th>\n",
       "      <td>180</td>\n",
       "      <td>48.0</td>\n",
       "      <td>51.9444</td>\n",
       "    </tr>\n",
       "    <tr>\n",
       "      <th>45810</th>\n",
       "      <td>180</td>\n",
       "      <td>58.0</td>\n",
       "      <td>59.0032</td>\n",
       "    </tr>\n",
       "    <tr>\n",
       "      <th>46111</th>\n",
       "      <td>179</td>\n",
       "      <td>163.0</td>\n",
       "      <td>45.8711</td>\n",
       "    </tr>\n",
       "    <tr>\n",
       "      <th>46411</th>\n",
       "      <td>179</td>\n",
       "      <td>30.0</td>\n",
       "      <td>56.5585</td>\n",
       "    </tr>\n",
       "    <tr>\n",
       "      <th>46412</th>\n",
       "      <td>179</td>\n",
       "      <td>101.0</td>\n",
       "      <td>41.0874</td>\n",
       "    </tr>\n",
       "  </tbody>\n",
       "</table>\n",
       "<p>220 rows × 3 columns</p>\n",
       "</div>"
      ],
      "text/plain": [
       "       engine_number  cycles   egthdm\n",
       "11398            179    98.0  52.0118\n",
       "11399            180    69.0  57.6415\n",
       "11400            180    75.0  48.7217\n",
       "11755            179     0.0  37.6572\n",
       "11756            179     1.0  37.2208\n",
       "...              ...     ...      ...\n",
       "45809            180    48.0  51.9444\n",
       "45810            180    58.0  59.0032\n",
       "46111            179   163.0  45.8711\n",
       "46411            179    30.0  56.5585\n",
       "46412            179   101.0  41.0874\n",
       "\n",
       "[220 rows x 3 columns]"
      ]
     },
     "execution_count": 10,
     "metadata": {},
     "output_type": "execute_result"
    }
   ],
   "source": [
    "aircraft_190 = df2.loc[df2['aircraft_number']==190, ['engine_number', 'cycles', 'egthdm']]\n",
    "aircraft_190"
   ]
  },
  {
   "cell_type": "markdown",
   "metadata": {},
   "source": [
    "#### 2.2. Affichez la courbe de l'évolution de la marge EGT au cours du temps pour les deux moteurs de l'avion, sur deux graphes séparés et en prenant soin d'ajouter des légendes."
   ]
  },
  {
   "cell_type": "code",
   "execution_count": 11,
   "metadata": {},
   "outputs": [
    {
     "data": {
      "text/plain": [
       "<AxesSubplot:xlabel='cycles', ylabel='engine2 EGT'>"
      ]
     },
     "execution_count": 11,
     "metadata": {},
     "output_type": "execute_result"
    },
    {
     "data": {
      "image/png": "[encoded data removed]",
      "text/plain": [
       "<Figure size 1080x576 with 2 Axes>"
      ]
     },
     "metadata": {
      "needs_background": "light"
     },
     "output_type": "display_data"
    }
   ],
   "source": [
    "engine1 = aircraft_190.loc[aircraft_190['engine_number']==179, ['egthdm', 'cycles']]\n",
    "engine1.sort_values(by='cycles', inplace=True)\n",
    "engine1.set_index('cycles', inplace=True)\n",
    "engine2 = aircraft_190.loc[aircraft_190['engine_number']==180, ['egthdm', 'cycles']]\n",
    "engine2.sort_values(by='cycles', inplace=True)\n",
    "engine2.set_index('cycles', inplace=True)\n",
    "\n",
    "fig, axs = plt.subplots(2, figsize= (15,8))\n",
    "engine1.plot(ax= axs[0], ylabel='engine1 EGT', xlabel='time (cycles)')\n",
    "engine2.plot(ax= axs[1], ylabel='engine2 EGT',xlabel='cycles')"
   ]
  },
  {
   "cell_type": "markdown",
   "metadata": {},
   "source": [
    "#### 2.3. Pour la suite, on ne s'intéresse qu'au moteur 179. Quel est le nombre de vols manquant dans les données ?\n",
    "\n",
    "Ne sachant pas le nombre de cycle totaux lors d'une étude, je vais supposer qu'il y a un nombre maximum de cycle atteint par au moins un des moteurs de tout le jeu de donnnées. Celui ci me donnera une référence pour comparer avec le moteur 179."
   ]
  },
  {
   "cell_type": "code",
   "execution_count": 12,
   "metadata": {},
   "outputs": [
    {
     "name": "stdout",
     "output_type": "stream",
     "text": [
      "le nombre de donnees manquantes si l'on considere qu'il y a 430.0 cycles dans le moteur 179 est donc de 339.0\n",
      "le nombre de donnees manquantes si l'on considere qu'il y a 163.0 cycles (a savoir le max des cycles du moteurs connu) est donc de 72.0\n"
     ]
    }
   ],
   "source": [
    "engine1.reset_index(inplace=True)\n",
    "\n",
    "max1 = max(df.cycles)-len(engine1.cycles.unique())\n",
    "max2 = max(engine1.cycles)- len(engine1.cycles.unique())\n",
    "print(f\"le nombre de donnees manquantes si l'on considere qu'il y a {max(df.cycles)} cycles dans le moteur 179 est donc de {max1}\")\n",
    "print(f\"le nombre de donnees manquantes si l'on considere qu'il y a {max(engine1.cycles)} cycles (a savoir le max des cycles du moteurs connu) est donc de {max2}\")"
   ]
  },
  {
   "cell_type": "markdown",
   "metadata": {},
   "source": [
    "#### 2.4. Nettoyage de la marge EGT\n",
    "\n",
    "On constate que sur un même cycle, il peut y avoir 2 valeurs de la variable `egthdm` mesurées. On ne souhaite garder que la plus grande des deux, et avoir une seule ligne par cycle, afin que l'on puisse utiliser le nombre de cycles comme index. Enfin, on veut compléter l'index pour les vols manquants, en remplissant les lignes par `NaN`. Pour cela, effectuez l'exercice suivant:\n",
    "\n",
    "1. Utilisez une aggrégation pour obtenir la plus grande valeur à chaque cycle et stockez le résultat dans une Series pandas appelée 'egt'.\n",
    "2. Ré-indexez le DataFrame pour avoir une ligne pour tout nombre de cycles (indice : passez par la méthode reindex)."
   ]
  },
  {
   "cell_type": "code",
   "execution_count": 13,
   "metadata": {},
   "outputs": [
    {
     "data": {
      "text/html": [
       "<div>\n",
       "<style scoped>\n",
       "    .dataframe tbody tr th:only-of-type {\n",
       "        vertical-align: middle;\n",
       "    }\n",
       "\n",
       "    .dataframe tbody tr th {\n",
       "        vertical-align: top;\n",
       "    }\n",
       "\n",
       "    .dataframe thead th {\n",
       "        text-align: right;\n",
       "    }\n",
       "</style>\n",
       "<table border=\"1\" class=\"dataframe\">\n",
       "  <thead>\n",
       "    <tr style=\"text-align: right;\">\n",
       "      <th></th>\n",
       "      <th>egthdm</th>\n",
       "    </tr>\n",
       "    <tr>\n",
       "      <th>cycles</th>\n",
       "      <th></th>\n",
       "    </tr>\n",
       "  </thead>\n",
       "  <tbody>\n",
       "    <tr>\n",
       "      <th>0.0</th>\n",
       "      <td>37.6572</td>\n",
       "    </tr>\n",
       "    <tr>\n",
       "      <th>1.0</th>\n",
       "      <td>59.1796</td>\n",
       "    </tr>\n",
       "    <tr>\n",
       "      <th>2.0</th>\n",
       "      <td>56.8104</td>\n",
       "    </tr>\n",
       "    <tr>\n",
       "      <th>3.0</th>\n",
       "      <td>55.2263</td>\n",
       "    </tr>\n",
       "    <tr>\n",
       "      <th>4.0</th>\n",
       "      <td>55.1283</td>\n",
       "    </tr>\n",
       "    <tr>\n",
       "      <th>...</th>\n",
       "      <td>...</td>\n",
       "    </tr>\n",
       "    <tr>\n",
       "      <th>159.0</th>\n",
       "      <td>NaN</td>\n",
       "    </tr>\n",
       "    <tr>\n",
       "      <th>160.0</th>\n",
       "      <td>NaN</td>\n",
       "    </tr>\n",
       "    <tr>\n",
       "      <th>161.0</th>\n",
       "      <td>NaN</td>\n",
       "    </tr>\n",
       "    <tr>\n",
       "      <th>162.0</th>\n",
       "      <td>NaN</td>\n",
       "    </tr>\n",
       "    <tr>\n",
       "      <th>163.0</th>\n",
       "      <td>45.8711</td>\n",
       "    </tr>\n",
       "  </tbody>\n",
       "</table>\n",
       "<p>164 rows × 1 columns</p>\n",
       "</div>"
      ],
      "text/plain": [
       "         egthdm\n",
       "cycles         \n",
       "0.0     37.6572\n",
       "1.0     59.1796\n",
       "2.0     56.8104\n",
       "3.0     55.2263\n",
       "4.0     55.1283\n",
       "...         ...\n",
       "159.0       NaN\n",
       "160.0       NaN\n",
       "161.0       NaN\n",
       "162.0       NaN\n",
       "163.0   45.8711\n",
       "\n",
       "[164 rows x 1 columns]"
      ]
     },
     "execution_count": 13,
     "metadata": {},
     "output_type": "execute_result"
    }
   ],
   "source": [
    "engine1 = aircraft_190.loc[aircraft_190['engine_number']==179, ['egthdm', 'cycles']]\n",
    "number_max_of_cycles = int(max(engine1.cycles)+1)\n",
    "engine1.sort_values(by=['cycles', 'egthdm'],inplace=True)\n",
    "engine1.reset_index(inplace=True)\n",
    "engine1.drop_duplicates(subset='cycles', keep='last', inplace=True)\n",
    "\n",
    "nan_vect = np.ones(number_max_of_cycles)*(-1)\n",
    "df_compare = pd.DataFrame({'egthdm': nan_vect,'cycles': np.linspace(0, number_max_of_cycles-1, number_max_of_cycles) })\n",
    "\n",
    "egt= pd.merge(df_compare, engine1, how='outer').sort_values(by=['cycles', 'egthdm']).drop_duplicates(subset='cycles', keep= 'last').set_index('cycles').drop(columns='index').replace(-1, np.nan)\n",
    "egt\n"
   ]
  },
  {
   "cell_type": "markdown",
   "metadata": {},
   "source": [
    "#### 2.5. On souhaite lisser les valeurs et se débarasser des outliers à l'aide d'une médiane glissante sur 15 cycles. Affichez sur un même graphe la marge EGT brute (points) et la marge lissée (ligne).\n",
    "http://pandas.pydata.org/pandas-docs/stable/generated/pandas.Series.rolling.html#pandas.Series.rolling\n",
    "\n",
    "Utilisez une fenêtre glissante de taille 15 cycles, avec un minimum de 3 observations non-nulles par fenêtre (paramètre `min_periods`)."
   ]
  },
  {
   "cell_type": "code",
   "execution_count": 18,
   "metadata": {},
   "outputs": [
    {
     "data": {
      "text/plain": [
       "Text(0, 0.5, 'EGT')"
      ]
     },
     "execution_count": 18,
     "metadata": {},
     "output_type": "execute_result"
    },
    {
     "data": {
      "image/png": "[encoded data removed]",
      "text/plain": [
       "<Figure size 1440x720 with 1 Axes>"
      ]
     },
     "metadata": {
      "needs_background": "light"
     },
     "output_type": "display_data"
    }
   ],
   "source": [
    "egt_rolling = egt.rolling(window=15, min_periods=3).median()\n",
    "\n",
    "fig, ax = plt.subplots()\n",
    "ax.scatter(egt.index, egt.values)\n",
    "egt_rolling.plot(ax = ax, color = 'orange')\n",
    "plt.legend( ['Marge EGT brute', 'Marge EGT lissée'])\n",
    "plt.ylabel('EGT')"
   ]
  },
  {
   "cell_type": "markdown",
   "metadata": {},
   "source": [
    "#### 2.6. Nettoyage de la marge EGT lissée\n",
    "\n",
    "La marge EGT ne peut être que décroissante, sauf en cas de nettoyage moteur (waterwash) ou peut-être à cause d'éléments extérieurs, on va donc éviter de tenir compte des remontées de marge et ne prendre en considération que les points descendants. Cette estimation est pessimiste mais évite de prendre en compte ces facteurs extérieurs.\n",
    "\n",
    "1. Calculez une série ne contenant que les valeurs décroissantes de la marge EGT lissée.\n",
    "2. Sur le graphique précédent, ajoutez ces points par-dessus la courbe."
   ]
  },
  {
   "cell_type": "code",
   "execution_count": 19,
   "metadata": {},
   "outputs": [
    {
     "data": {
      "text/html": [
       "<div>\n",
       "<style scoped>\n",
       "    .dataframe tbody tr th:only-of-type {\n",
       "        vertical-align: middle;\n",
       "    }\n",
       "\n",
       "    .dataframe tbody tr th {\n",
       "        vertical-align: top;\n",
       "    }\n",
       "\n",
       "    .dataframe thead th {\n",
       "        text-align: right;\n",
       "    }\n",
       "</style>\n",
       "<table border=\"1\" class=\"dataframe\">\n",
       "  <thead>\n",
       "    <tr style=\"text-align: right;\">\n",
       "      <th></th>\n",
       "      <th>egthdm</th>\n",
       "    </tr>\n",
       "    <tr>\n",
       "      <th>cycles</th>\n",
       "      <th></th>\n",
       "    </tr>\n",
       "  </thead>\n",
       "  <tbody>\n",
       "    <tr>\n",
       "      <th>0.0</th>\n",
       "      <td>NaN</td>\n",
       "    </tr>\n",
       "    <tr>\n",
       "      <th>1.0</th>\n",
       "      <td>NaN</td>\n",
       "    </tr>\n",
       "    <tr>\n",
       "      <th>2.0</th>\n",
       "      <td>56.81040</td>\n",
       "    </tr>\n",
       "    <tr>\n",
       "      <th>3.0</th>\n",
       "      <td>56.01835</td>\n",
       "    </tr>\n",
       "    <tr>\n",
       "      <th>4.0</th>\n",
       "      <td>55.22630</td>\n",
       "    </tr>\n",
       "    <tr>\n",
       "      <th>...</th>\n",
       "      <td>...</td>\n",
       "    </tr>\n",
       "    <tr>\n",
       "      <th>159.0</th>\n",
       "      <td>NaN</td>\n",
       "    </tr>\n",
       "    <tr>\n",
       "      <th>160.0</th>\n",
       "      <td>NaN</td>\n",
       "    </tr>\n",
       "    <tr>\n",
       "      <th>161.0</th>\n",
       "      <td>NaN</td>\n",
       "    </tr>\n",
       "    <tr>\n",
       "      <th>162.0</th>\n",
       "      <td>NaN</td>\n",
       "    </tr>\n",
       "    <tr>\n",
       "      <th>163.0</th>\n",
       "      <td>NaN</td>\n",
       "    </tr>\n",
       "  </tbody>\n",
       "</table>\n",
       "<p>164 rows × 1 columns</p>\n",
       "</div>"
      ],
      "text/plain": [
       "          egthdm\n",
       "cycles          \n",
       "0.0          NaN\n",
       "1.0          NaN\n",
       "2.0     56.81040\n",
       "3.0     56.01835\n",
       "4.0     55.22630\n",
       "...          ...\n",
       "159.0        NaN\n",
       "160.0        NaN\n",
       "161.0        NaN\n",
       "162.0        NaN\n",
       "163.0        NaN\n",
       "\n",
       "[164 rows x 1 columns]"
      ]
     },
     "execution_count": 19,
     "metadata": {},
     "output_type": "execute_result"
    }
   ],
   "source": [
    "data  = np.array(egt_rolling['egthdm'].dropna())\n",
    "cycles_drop = egt_rolling.dropna().index\n",
    "\n",
    "val = data[0]\n",
    "for i in range(len(data)-1):\n",
    "    if data[i+1]>val :\n",
    "        data[i+1]=-1\n",
    "    else : \n",
    "        val = data[i+1]\n",
    "\n",
    "egt_non_decreasing = pd.DataFrame({'egthdm' : data, 'cycles': cycles_drop})\n",
    "\n",
    "\n",
    "# merging the results with the whole vector\n",
    "nan_vect = np.ones(number_max_of_cycles)*(-1)\n",
    "df_compare = pd.DataFrame({'egthdm': nan_vect,'cycles': np.linspace(0, number_max_of_cycles-1, number_max_of_cycles) })\n",
    "\n",
    "egt_non_decreasing= pd.merge(df_compare, egt_non_decreasing, how='outer').sort_values(by=['cycles', 'egthdm']).drop_duplicates(subset='cycles', keep= 'last').set_index('cycles').replace(-1, np.nan)\n",
    "egt_non_decreasing\n"
   ]
  },
  {
   "cell_type": "code",
   "execution_count": 36,
   "metadata": {},
   "outputs": [
    {
     "data": {
      "text/plain": [
       "Text(0, 0.5, 'EGT')"
      ]
     },
     "execution_count": 36,
     "metadata": {},
     "output_type": "execute_result"
    },
    {
     "data": {
      "image/png": "[encoded data removed]",
      "text/plain": [
       "<Figure size 1440x720 with 1 Axes>"
      ]
     },
     "metadata": {
      "needs_background": "light"
     },
     "output_type": "display_data"
    }
   ],
   "source": [
    "fig, ax = plt.subplots()\n",
    "ax.scatter(egt.index, egt.values)\n",
    "egt_rolling.plot(ax = ax , style = '--')\n",
    "egt_non_decreasing.plot(ax=ax)\n",
    "plt.legend( ['Marge EGT brute', 'Marge EGT lissée', 'EGT décroissante'])\n",
    "plt.ylabel('EGT')"
   ]
  },
  {
   "cell_type": "markdown",
   "metadata": {},
   "source": [
    "#### 2.7. Estimation de la pente de la marge EGT\n",
    "\n",
    "La pente de la marge EGT est un indicateur très intéressant de l'usure du moteur. On l'estime par régression linéaire par rapport au nombre de cycles. Pour cela, on utilise les points conservés précédemment qui constituent une estimation pessimiste.\n",
    "\n",
    "Pour la régression linéaire, on utilisera le modèle `LinearRegression` de scikit-learn. Son utilisation est similaire aux autres modèles de scikit-learn :\n",
    "```python\n",
    "lr = LinearRegression()\n",
    "model = lr.fit(X, y)\n",
    "```\n",
    "\n",
    "1. Apprenez un modèle `LinearRegression` sur les données calculées précédemment. Affichez les coefficients et l'ordonnée à l'origine (_intercept_) du modèle obtenu. Les valeurs sont-elles cohérentes ? (indices : pour passer d'un objet pandas (DataFrame ou Series) à un array numpy, utilisez la propriété `values`)\n",
    "2. Tracez la droite obtenue sur le graphe précédent."
   ]
  },
  {
   "cell_type": "code",
   "execution_count": 21,
   "metadata": {},
   "outputs": [
    {
     "name": "stderr",
     "output_type": "stream",
     "text": [
      "/usr/lib/python3/dist-packages/scipy/__init__.py:146: UserWarning: A NumPy version >=1.17.3 and <1.25.0 is required for this version of SciPy (detected version 1.26.0\n",
      "  warnings.warn(f\"A NumPy version >={np_minversion} and <{np_maxversion}\"\n"
     ]
    }
   ],
   "source": [
    "from sklearn.linear_model import LinearRegression"
   ]
  },
  {
   "cell_type": "code",
   "execution_count": 22,
   "metadata": {},
   "outputs": [],
   "source": [
    "data = egt_non_decreasing.dropna()\n",
    "EGT_f  =data['egthdm'].values\n",
    "CYCLES = data.index.values\n",
    "\n",
    "X = np.ones((len(EGT_f),2))\n",
    "X[:,1]= CYCLES\n",
    "lf = LinearRegression(fit_intercept=False)\n",
    "model = lf.fit(X, EGT_f)"
   ]
  },
  {
   "cell_type": "code",
   "execution_count": 35,
   "metadata": {},
   "outputs": [
    {
     "data": {
      "text/plain": [
       "<matplotlib.legend.Legend at 0x7f740ae75ae0>"
      ]
     },
     "execution_count": 35,
     "metadata": {},
     "output_type": "execute_result"
    },
    {
     "data": {
      "image/png": "[encoded data removed]",
      "text/plain": [
       "<Figure size 1440x720 with 1 Axes>"
      ]
     },
     "metadata": {
      "needs_background": "light"
     },
     "output_type": "display_data"
    }
   ],
   "source": [
    "fig, ax = plt.subplots()\n",
    "ax.scatter(egt.index, egt.values, color = 'k', alpha = 0.7)\n",
    "egt_rolling.plot(ax = ax , style = '--')\n",
    "egt_non_decreasing.plot(ax=ax)\n",
    "\n",
    "plt.ylabel('EGT')\n",
    "ax.plot(CYCLES, model.coef_[0]+ model.coef_[1]*CYCLES, alpha = 0.8 )\n",
    "plt.legend( ['Marge EGT brute', 'Marge EGT lissée', 'EGT décroissante', 'regression linéaire de EGT traitée'])"
   ]
  },
  {
   "cell_type": "markdown",
   "metadata": {},
   "source": [
    "### 3. Écriture d'une fonction de calcul de la pente EGT pour tous les moteurs\n",
    "\n",
    "Tout d'abord, bravo si vous êtes arrivés jusque là ! Toutes les opérations que l'on a effectuées ont permis d'estimer la pente de la marge EGT du moteur 179 de l'avion 190 de type 10, et donc son usure. Maintenant, on souhaite répéter ce processus sur tous les moteurs ! Pour cela, il faudra créer une fonction Python générique, prenant en entrée l'ensemble du jeu de données ACARS et produisant en sortie l'ensemble des pentes/intercept des modèles de régression linéaire appris pour chaque moteur.\n",
    "\n",
    "L'un des intérêts est de pouvoir prédire l'usure des moteurs, après un nombre de cycles donné.\n",
    "\n",
    "Voici le squelette de la fonction à écrire (en ré-utilisant et adaptant tout les morceaux de code précédents) :\n",
    "\n",
    "```python\n",
    "def regress_egt_margin(df_acars):\n",
    "    ...\n",
    "    return df_regress_models # Contient les pentes et intercept pour tous les moteurs\n",
    "```"
   ]
  },
  {
   "cell_type": "code",
   "execution_count": 24,
   "metadata": {},
   "outputs": [],
   "source": [
    "def regress_egt_margin(df_acars):\n",
    "    # init\n",
    "    Engine = []\n",
    "    Slope = []\n",
    "    Intercept = []\n",
    "    Engine_type = []\n",
    "\n",
    "    # liste des moteurs \n",
    "    idx_cycle = df_acars.cycles.isna()\n",
    "    idx_egt = df_acars.egthdm.isna()\n",
    "    list_of_engine_numbers = df_acars[~(idx_egt + idx_cycle)].engine_number.unique()\n",
    "\n",
    "    # loop on engine number\n",
    "    for engine_number in list_of_engine_numbers :\n",
    "        # selection of the engine \n",
    "        df_engine =  df_acars.loc[df_acars['engine_number']==engine_number, ['cycles', 'egthdm', 'engine_type']]\n",
    "        engine_type = df_engine['engine_type'].iloc[0]\n",
    "        \n",
    "        # eliminate duplicated values (and select the max)\n",
    "        df_engine.sort_values(by=['cycles', 'egthdm'],inplace=True)\n",
    "        number_max_of_cycles = int(max(df_engine.cycles)+1)\n",
    "        df_engine.reset_index(inplace=True)\n",
    "        df_engine.drop_duplicates(subset='cycles', keep='last', inplace=True)\n",
    "\n",
    "        # merge with nan (in roder to apply rolling method)\n",
    "        nan_vect = np.ones(number_max_of_cycles)*(-1)\n",
    "        df_compare = pd.DataFrame({'egthdm': nan_vect,'cycles': np.linspace(0, number_max_of_cycles-1, number_max_of_cycles) })\n",
    "        egt= pd.merge(df_compare, df_engine, how='outer').sort_values(by=['cycles', 'egthdm']).drop_duplicates(subset='cycles', keep= 'last').set_index('cycles').drop(columns='index').replace(-1, np.nan)\n",
    "\n",
    "        # smoothing egt with median method\n",
    "        egt_rolling = egt.rolling(window=15, min_periods=3).median()\n",
    "\n",
    "        # eliminate increasing values \n",
    "        data  = np.array(egt_rolling['egthdm'].dropna())\n",
    "        cycles_drop = egt_rolling.dropna().index\n",
    "\n",
    "        if (len(data)>0):\n",
    "            val = data[0]\n",
    "            for i in range(len(data)-1):\n",
    "                if data[i+1]>val :\n",
    "                    data[i+1]=-1\n",
    "                else : \n",
    "                    val = data[i+1]\n",
    "            \n",
    "            # regression\n",
    "            X = np.ones((len(cycles_drop),2))\n",
    "            X[:,1]= cycles_drop\n",
    "            y = data\n",
    "            lf = LinearRegression(fit_intercept=False)\n",
    "            model = lf.fit(X, y) \n",
    "            slope = model.coef_[1]\n",
    "            intercept = model.coef_[0]\n",
    "            \n",
    "            # save values of the regression\n",
    "            Slope.append(slope)\n",
    "            Intercept.append(intercept)\n",
    "            Engine.append(engine_number)\n",
    "            Engine_type.append(engine_type)\n",
    "\n",
    "\n",
    "    # dataframe de sortie\n",
    "\n",
    "    df_regress_models= pd.DataFrame({'slope': Slope,   'intercept': Intercept, 'Engine': Engine, 'Engine_type': Engine_type})\n",
    "    df_regress_models.set_index('Engine',inplace=True)\n",
    "    df_regress_models.sort_index(inplace=True)\n",
    "    return df_regress_models"
   ]
  },
  {
   "cell_type": "code",
   "execution_count": 25,
   "metadata": {},
   "outputs": [],
   "source": [
    "df_acars = pd.read_excel('data/accars_b.xlsx')\n"
   ]
  },
  {
   "cell_type": "code",
   "execution_count": 26,
   "metadata": {},
   "outputs": [
    {
     "data": {
      "text/html": [
       "<div>\n",
       "<style scoped>\n",
       "    .dataframe tbody tr th:only-of-type {\n",
       "        vertical-align: middle;\n",
       "    }\n",
       "\n",
       "    .dataframe tbody tr th {\n",
       "        vertical-align: top;\n",
       "    }\n",
       "\n",
       "    .dataframe thead th {\n",
       "        text-align: right;\n",
       "    }\n",
       "</style>\n",
       "<table border=\"1\" class=\"dataframe\">\n",
       "  <thead>\n",
       "    <tr style=\"text-align: right;\">\n",
       "      <th></th>\n",
       "      <th>slope</th>\n",
       "      <th>intercept</th>\n",
       "      <th>Engine_type</th>\n",
       "    </tr>\n",
       "    <tr>\n",
       "      <th>Engine</th>\n",
       "      <th></th>\n",
       "      <th></th>\n",
       "      <th></th>\n",
       "    </tr>\n",
       "  </thead>\n",
       "  <tbody>\n",
       "    <tr>\n",
       "      <th>1</th>\n",
       "      <td>-0.444226</td>\n",
       "      <td>64.945312</td>\n",
       "      <td>5</td>\n",
       "    </tr>\n",
       "    <tr>\n",
       "      <th>2</th>\n",
       "      <td>-0.425064</td>\n",
       "      <td>68.098159</td>\n",
       "      <td>5</td>\n",
       "    </tr>\n",
       "    <tr>\n",
       "      <th>3</th>\n",
       "      <td>-0.342890</td>\n",
       "      <td>54.346740</td>\n",
       "      <td>5</td>\n",
       "    </tr>\n",
       "    <tr>\n",
       "      <th>4</th>\n",
       "      <td>-0.405793</td>\n",
       "      <td>62.372113</td>\n",
       "      <td>5</td>\n",
       "    </tr>\n",
       "    <tr>\n",
       "      <th>5</th>\n",
       "      <td>-0.149831</td>\n",
       "      <td>42.604307</td>\n",
       "      <td>5</td>\n",
       "    </tr>\n",
       "    <tr>\n",
       "      <th>...</th>\n",
       "      <td>...</td>\n",
       "      <td>...</td>\n",
       "      <td>...</td>\n",
       "    </tr>\n",
       "    <tr>\n",
       "      <th>325</th>\n",
       "      <td>-0.119288</td>\n",
       "      <td>34.943959</td>\n",
       "      <td>7</td>\n",
       "    </tr>\n",
       "    <tr>\n",
       "      <th>328</th>\n",
       "      <td>-0.176283</td>\n",
       "      <td>43.799772</td>\n",
       "      <td>7</td>\n",
       "    </tr>\n",
       "    <tr>\n",
       "      <th>336</th>\n",
       "      <td>-0.116171</td>\n",
       "      <td>35.930837</td>\n",
       "      <td>7</td>\n",
       "    </tr>\n",
       "    <tr>\n",
       "      <th>345</th>\n",
       "      <td>1.069833</td>\n",
       "      <td>-122.566814</td>\n",
       "      <td>7</td>\n",
       "    </tr>\n",
       "    <tr>\n",
       "      <th>346</th>\n",
       "      <td>-1.200593</td>\n",
       "      <td>243.104692</td>\n",
       "      <td>7</td>\n",
       "    </tr>\n",
       "  </tbody>\n",
       "</table>\n",
       "<p>180 rows × 3 columns</p>\n",
       "</div>"
      ],
      "text/plain": [
       "           slope   intercept  Engine_type\n",
       "Engine                                   \n",
       "1      -0.444226   64.945312            5\n",
       "2      -0.425064   68.098159            5\n",
       "3      -0.342890   54.346740            5\n",
       "4      -0.405793   62.372113            5\n",
       "5      -0.149831   42.604307            5\n",
       "...          ...         ...          ...\n",
       "325    -0.119288   34.943959            7\n",
       "328    -0.176283   43.799772            7\n",
       "336    -0.116171   35.930837            7\n",
       "345     1.069833 -122.566814            7\n",
       "346    -1.200593  243.104692            7\n",
       "\n",
       "[180 rows x 3 columns]"
      ]
     },
     "execution_count": 26,
     "metadata": {},
     "output_type": "execute_result"
    }
   ],
   "source": [
    "df_reg  =regress_egt_margin(df_acars)\n",
    "df_reg"
   ]
  },
  {
   "cell_type": "markdown",
   "metadata": {},
   "source": [
    "### 4. Comparaison de l'usure des 3 types de moteurs"
   ]
  },
  {
   "cell_type": "markdown",
   "metadata": {},
   "source": [
    "#### 4.1. Prédiction de la marge EGT au 150ème par type de moteur\n",
    "\n",
    "1. Pour chaque moteur, utilisez son modèle de régression pour prédire la valeur de la marge EGT après 150 cycles d'utilisation (indice : méthode `apply`).\n",
    "2. Représentez ces valeurs par type moteur sur un box plot. Décrivez le résultat obtenu.\n",
    "3. Calculez la moyenne de la marge au 150ème cycle par type de moteur. Quel type de moteur a la plus grande marge moyenne après 150 cycles ?"
   ]
  },
  {
   "cell_type": "code",
   "execution_count": 27,
   "metadata": {},
   "outputs": [
    {
     "data": {
      "text/html": [
       "<div>\n",
       "<style scoped>\n",
       "    .dataframe tbody tr th:only-of-type {\n",
       "        vertical-align: middle;\n",
       "    }\n",
       "\n",
       "    .dataframe tbody tr th {\n",
       "        vertical-align: top;\n",
       "    }\n",
       "\n",
       "    .dataframe thead th {\n",
       "        text-align: right;\n",
       "    }\n",
       "</style>\n",
       "<table border=\"1\" class=\"dataframe\">\n",
       "  <thead>\n",
       "    <tr style=\"text-align: right;\">\n",
       "      <th></th>\n",
       "      <th>slope</th>\n",
       "      <th>intercept</th>\n",
       "      <th>Engine_type</th>\n",
       "      <th>prediction_150</th>\n",
       "    </tr>\n",
       "    <tr>\n",
       "      <th>Engine</th>\n",
       "      <th></th>\n",
       "      <th></th>\n",
       "      <th></th>\n",
       "      <th></th>\n",
       "    </tr>\n",
       "  </thead>\n",
       "  <tbody>\n",
       "    <tr>\n",
       "      <th>1</th>\n",
       "      <td>-0.444226</td>\n",
       "      <td>64.945312</td>\n",
       "      <td>5</td>\n",
       "      <td>-1.688633</td>\n",
       "    </tr>\n",
       "    <tr>\n",
       "      <th>2</th>\n",
       "      <td>-0.425064</td>\n",
       "      <td>68.098159</td>\n",
       "      <td>5</td>\n",
       "      <td>4.338498</td>\n",
       "    </tr>\n",
       "    <tr>\n",
       "      <th>3</th>\n",
       "      <td>-0.342890</td>\n",
       "      <td>54.346740</td>\n",
       "      <td>5</td>\n",
       "      <td>2.913222</td>\n",
       "    </tr>\n",
       "    <tr>\n",
       "      <th>4</th>\n",
       "      <td>-0.405793</td>\n",
       "      <td>62.372113</td>\n",
       "      <td>5</td>\n",
       "      <td>1.503127</td>\n",
       "    </tr>\n",
       "    <tr>\n",
       "      <th>5</th>\n",
       "      <td>-0.149831</td>\n",
       "      <td>42.604307</td>\n",
       "      <td>5</td>\n",
       "      <td>20.129622</td>\n",
       "    </tr>\n",
       "    <tr>\n",
       "      <th>...</th>\n",
       "      <td>...</td>\n",
       "      <td>...</td>\n",
       "      <td>...</td>\n",
       "      <td>...</td>\n",
       "    </tr>\n",
       "    <tr>\n",
       "      <th>325</th>\n",
       "      <td>-0.119288</td>\n",
       "      <td>34.943959</td>\n",
       "      <td>7</td>\n",
       "      <td>17.050815</td>\n",
       "    </tr>\n",
       "    <tr>\n",
       "      <th>328</th>\n",
       "      <td>-0.176283</td>\n",
       "      <td>43.799772</td>\n",
       "      <td>7</td>\n",
       "      <td>17.357271</td>\n",
       "    </tr>\n",
       "    <tr>\n",
       "      <th>336</th>\n",
       "      <td>-0.116171</td>\n",
       "      <td>35.930837</td>\n",
       "      <td>7</td>\n",
       "      <td>18.505164</td>\n",
       "    </tr>\n",
       "    <tr>\n",
       "      <th>345</th>\n",
       "      <td>1.069833</td>\n",
       "      <td>-122.566814</td>\n",
       "      <td>7</td>\n",
       "      <td>37.908202</td>\n",
       "    </tr>\n",
       "    <tr>\n",
       "      <th>346</th>\n",
       "      <td>-1.200593</td>\n",
       "      <td>243.104692</td>\n",
       "      <td>7</td>\n",
       "      <td>63.015728</td>\n",
       "    </tr>\n",
       "  </tbody>\n",
       "</table>\n",
       "<p>180 rows × 4 columns</p>\n",
       "</div>"
      ],
      "text/plain": [
       "           slope   intercept  Engine_type  prediction_150\n",
       "Engine                                                   \n",
       "1      -0.444226   64.945312            5       -1.688633\n",
       "2      -0.425064   68.098159            5        4.338498\n",
       "3      -0.342890   54.346740            5        2.913222\n",
       "4      -0.405793   62.372113            5        1.503127\n",
       "5      -0.149831   42.604307            5       20.129622\n",
       "...          ...         ...          ...             ...\n",
       "325    -0.119288   34.943959            7       17.050815\n",
       "328    -0.176283   43.799772            7       17.357271\n",
       "336    -0.116171   35.930837            7       18.505164\n",
       "345     1.069833 -122.566814            7       37.908202\n",
       "346    -1.200593  243.104692            7       63.015728\n",
       "\n",
       "[180 rows x 4 columns]"
      ]
     },
     "execution_count": 27,
     "metadata": {},
     "output_type": "execute_result"
    }
   ],
   "source": [
    "df_reg['prediction_150']  = 150 * df_reg.slope + df_reg.intercept\n",
    "df_reg"
   ]
  },
  {
   "cell_type": "code",
   "execution_count": 28,
   "metadata": {},
   "outputs": [
    {
     "data": {
      "text/plain": [
       "5          AxesSubplot(0.1,0.559091;0.363636x0.340909)\n",
       "7     AxesSubplot(0.536364,0.559091;0.363636x0.340909)\n",
       "10             AxesSubplot(0.1,0.15;0.363636x0.340909)\n",
       "dtype: object"
      ]
     },
     "execution_count": 28,
     "metadata": {},
     "output_type": "execute_result"
    },
    {
     "data": {
      "image/png": "[encoded data removed]",
      "text/plain": [
       "<Figure size 1440x720 with 4 Axes>"
      ]
     },
     "metadata": {
      "needs_background": "light"
     },
     "output_type": "display_data"
    }
   ],
   "source": [
    "df_reg.groupby(by='Engine_type').boxplot(subplots=True, column='prediction_150')"
   ]
  },
  {
   "cell_type": "code",
   "execution_count": null,
   "metadata": {},
   "outputs": [],
   "source": []
  },
  {
   "cell_type": "code",
   "execution_count": 29,
   "metadata": {},
   "outputs": [
    {
     "name": "stdout",
     "output_type": "stream",
     "text": [
      "la valeur moyenne de la marge EGT au bout de 150 cycles du moteur de type 5 est de 0.6106720971546585\n",
      "la valeur moyenne de la marge EGT au bout de 150 cycles du moteur de type 10 est de -80.07818793619495\n",
      "la valeur moyenne de la marge EGT au bout de 150 cycles du moteur de type 7 est de 11.460838396631816\n"
     ]
    }
   ],
   "source": [
    "# moyenne de la marge egt apres 150 cycles \n",
    "mean = df_reg.groupby('Engine_type').mean()['prediction_150']\n",
    "for type in df_reg.Engine_type.unique() :\n",
    "    print(f\"la valeur moyenne de la marge EGT au bout de 150 cycles du moteur de type {type} est de {mean[type]}\")"
   ]
  },
  {
   "cell_type": "markdown",
   "metadata": {},
   "source": [
    "Le moteur ayant la plus grande marge EGT au bout de 50 cyles est le moteur de type 7."
   ]
  },
  {
   "cell_type": "markdown",
   "metadata": {},
   "source": [
    "#### 4.3. Vitesse de décroissance de la marge EGT par type de moteur\n",
    "\n",
    "La pente de la marge EGT correspond à sa vitesse de décroissance par cycle.\n",
    "\n",
    "1. Quelle est son unité ?\n",
    "2. Représentez ces valeurs par type de moteur sur un boxplot. Décrivez le résultat obtenu.\n",
    "3. Calculez moyenne de la pente par type de moteur. Quel type de moteur a la plus faible vitesse de décroissance et donc la plus faible vitesse d'usure ?"
   ]
  },
  {
   "cell_type": "markdown",
   "metadata": {},
   "source": [
    "1. Il s'agit de degrés Celcius par cycle\n",
    "\n",
    "2. Le moteur de type 5 ont le plus de valeurs abérrantes. Les moteurs de type 5 et 7 sont ceux ayant des amplitudes les plus faibles (par rapport au type 10)."
   ]
  },
  {
   "cell_type": "code",
   "execution_count": 30,
   "metadata": {},
   "outputs": [
    {
     "data": {
      "text/plain": [
       "5          AxesSubplot(0.1,0.559091;0.363636x0.340909)\n",
       "7     AxesSubplot(0.536364,0.559091;0.363636x0.340909)\n",
       "10             AxesSubplot(0.1,0.15;0.363636x0.340909)\n",
       "dtype: object"
      ]
     },
     "execution_count": 30,
     "metadata": {},
     "output_type": "execute_result"
    },
    {
     "data": {
      "image/png": "[encoded data removed]",
      "text/plain": [
       "<Figure size 1440x720 with 4 Axes>"
      ]
     },
     "metadata": {
      "needs_background": "light"
     },
     "output_type": "display_data"
    }
   ],
   "source": [
    "df_reg.groupby(by='Engine_type').boxplot(subplots=True, column='slope')"
   ]
  },
  {
   "cell_type": "code",
   "execution_count": 31,
   "metadata": {},
   "outputs": [
    {
     "name": "stdout",
     "output_type": "stream",
     "text": [
      "la valeur moyenne de la vitesse de décroissance par cycle pour un moteur de type 5 est de -0.5502274177606676\n",
      "la valeur moyenne de la vitesse de décroissance par cycle pour un moteur de type 10 est de -1.1908662217101709\n",
      "la valeur moyenne de la vitesse de décroissance par cycle pour un moteur de type 7 est de -0.1635616173254451\n"
     ]
    }
   ],
   "source": [
    "# moyenne de la marge egt apres 150 cycles \n",
    "mean = df_reg.groupby('Engine_type').mean()['slope']\n",
    "for type in df_reg.Engine_type.unique() :\n",
    "    print(f'la valeur moyenne de la vitesse de décroissance par cycle pour un moteur de type {type} est de {mean[type]}')"
   ]
  },
  {
   "cell_type": "markdown",
   "metadata": {},
   "source": [
    "Le moteur de type 7 a la plus faible vitesse d'usure."
   ]
  }
 ],
 "metadata": {
  "kernelspec": {
   "display_name": "Python 3 (ipykernel)",
   "language": "python",
   "name": "python3"
  },
  "language_info": {
   "codemirror_mode": {
    "name": "ipython",
    "version": 3
   },
   "file_extension": ".py",
   "mimetype": "text/x-python",
   "name": "python",
   "nbconvert_exporter": "python",
   "pygments_lexer": "ipython3",
   "version": "3.10.12"
  }
 },
 "nbformat": 4,
 "nbformat_minor": 4
}
