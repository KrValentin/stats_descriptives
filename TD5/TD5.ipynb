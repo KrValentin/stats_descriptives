{
 "cells": [
  {
   "cell_type": "markdown",
   "metadata": {},
   "source": [
    "# TD 4 | Étude des vibrations des aubes d'un rouet de compresseur d'un turbofan\n",
    "\n",
    "---\n",
    "\n",
    "Objectifs du TD :\n",
    "\n",
    "* pratiquer sur un use case concret d'analyse statistique de données de production aéronautiques\n",
    "* PCA\n",
    "* tests statistiques et coefficients de corrélation\n",
    "\n",
    "---"
   ]
  },
  {
   "cell_type": "markdown",
   "metadata": {},
   "source": [
    "## Présentation du problème"
   ]
  },
  {
   "cell_type": "markdown",
   "metadata": {},
   "source": [
    "On considère le **rouet de compresseur** de la **turbine à gaz d'un turbopropulseur** d'hélicoptère. Celui-ci est constitué de 13 **aubes**.\n",
    "\n",
    "<img src=\"rc/turbo-helico.png\" />\n",
    "\n",
    "<img src=\"rc/compresseur.png\" /> <img src=\"rc/compresseur-2.png\" />\n",
    "\n",
    "En production, après la fabrication et montage de la pièce, on mesure les vibrations des aubes grâce à une technique appelée **tip-timing**. Cette technique consiste à mesurer la position d'une aube en rotation par rapport à sa position au repos. En effet, les vibrations dues à la rotation entraînent un **décalage de la position des aubes** (voir schéma ci-dessous). \n",
    "\n",
    "<img src=\"rc/tiptiming.png\"/>\n",
    "\n",
    "La mesure de ce déplacement maximal à un régime (vitesse de rotation) donné permet de déduire le niveau vibratoire de chacune des aubes. Voici les résultats obtenus pour chacune des 13 aubes :\n",
    "\n",
    "<img src=\"rc/vibrations.png\" />"
   ]
  },
  {
   "cell_type": "markdown",
   "metadata": {},
   "source": [
    "<div style=\"color: #bb1111; font-size: 16px; background-color: #ffeeee; padding: 20px; border-radius: 15px\">\n",
    "    <p><b>Problème :</b> on observe un niveau de vibrations anormal pour l'aube numérotée 11 dans le tableau ci-dessus (déplacement maximal de 0.99 mm). Cependant, il est impossible d'identifier de manière certaine cette aube, car l'aube n°1 n'est pas identifiée : il peut y avoir un décalage circulaire des mesures. On sait seulement qu'une aube vibre davantage que les autres. Comment peut-on identifier cette aube afin de la remplacer ?</p>\n",
    "</div>"
   ]
  },
  {
   "cell_type": "markdown",
   "metadata": {},
   "source": [
    "## Présentation des données"
   ]
  },
  {
   "cell_type": "markdown",
   "metadata": {},
   "source": [
    "<div style=\"color: #1111bb; font-size: 16px; background-color: #eeeeff; padding: 20px; border-radius: 15px\">\n",
    "    <p>On dispose de données de production sur les aubes de ce compresseur !</p>\n",
    "</div>"
   ]
  },
  {
   "cell_type": "markdown",
   "metadata": {},
   "source": [
    "Durant la production, de nombreuses caractéristiques géométriques de chaque aube sont mesurées. Ces données géométriques sont les suivantes :\n",
    "\n",
    "* 17 variables géométriques concernant la forme (bord d'attaque BA, bord de fuite BF, etc.) de l'aube\n",
    "* 94 variables d'épaisseurs mesurées à différents points de l'aube\n",
    "\n",
    "soit un total de 111 variables mesurées par aube. Ces données se trouvent dans le fichier `Rouet_geometries.csv` (voir figures ci-dessous).\n",
    "\n",
    "<img src=\"rc/geometries.png\" />\n",
    "<img src=\"rc/epaisseurs.png\" />"
   ]
  },
  {
   "cell_type": "markdown",
   "metadata": {},
   "source": [
    "Enfin, les données de vibrations issues du tip-timing se trouvent dans le fichier `Rouet_vibrations.csv`.\n",
    "\n",
    "<img src=\"rc/vibrations.png\" />"
   ]
  },
  {
   "cell_type": "markdown",
   "metadata": {},
   "source": [
    "<div style=\"color: #1111bb; font-size: 16px; background-color: #eeeeff; padding: 20px; border-radius: 15px\">\n",
    "    <p><b>Attention :</b> Les numérotations des aubes dans les données géométriques et les résultats du tip-timing ne sont pas les mêmes (permutation circulaire) !</p>\n",
    "</div>"
   ]
  },
  {
   "cell_type": "markdown",
   "metadata": {},
   "source": [
    "## 1. Chargement et préparation des données\n",
    "\n",
    "### 1.1 Lecture des données\n",
    "\n",
    "Charger les deux jeux de données, géométries (`./data/Rouet_geometries.csv`) et vibrations (`./data/Rouet_vibrations.csv`), dans des DataFrames pandas. Il sera nécessaire de prêter attention au format des fichier (header, séparateur de colonnes, typage des colonnes, etc.).\n",
    "\n",
    "**Indice** : l'encodage des fichier CSV n'est pas UTF-8, il faudra donc préciser l'option `encoding='latin'` à la fonction `pandas.read_csv`."
   ]
  },
  {
   "cell_type": "code",
   "execution_count": 2,
   "metadata": {},
   "outputs": [],
   "source": [
    "import pandas as pd\n",
    "import numpy as np\n",
    "\n",
    "data_dir = '../../MACS3-Statistiques-Descriptives-TDs/data/'"
   ]
  },
  {
   "cell_type": "code",
   "execution_count": 134,
   "metadata": {},
   "outputs": [
    {
     "name": "stderr",
     "output_type": "stream",
     "text": [
      "/tmp/ipykernel_16864/501354906.py:2: ParserWarning: Falling back to the 'python' engine because the 'c' engine does not support skipfooter; you can avoid this warning by specifying engine='python'.\n",
      "  geometries = pd.read_csv(rawdir_geometries, encoding='latin', sep = ';', header=2, skipfooter=1, decimal=',') #usecols=range(0,18))\n"
     ]
    }
   ],
   "source": [
    "rawdir_geometries = data_dir+  'Rouet_geometries.csv'\n",
    "geometries = pd.read_csv(rawdir_geometries, encoding='latin', sep = ';', header=2, skipfooter=1, decimal=',') #usecols=range(0,18))\n",
    "geometries.set_index('N Pale', inplace=True)"
   ]
  },
  {
   "cell_type": "code",
   "execution_count": 84,
   "metadata": {},
   "outputs": [],
   "source": [
    "rawdir_vibration = data_dir + 'Rouet_vibrations.csv'\n",
    "vibrations = pd.read_csv(rawdir_vibration, encoding='latin', sep= ';', header=1, decimal=',')\n",
    "vibrations.set_index('N° Pale', inplace=True)"
   ]
  },
  {
   "cell_type": "markdown",
   "metadata": {},
   "source": [
    "### 1.2 Standardisez les variables géométriques afin d'obtenir des variables centrées (moyenne 0) et réduites (variance 1)."
   ]
  },
  {
   "cell_type": "code",
   "execution_count": 135,
   "metadata": {},
   "outputs": [
    {
     "data": {
      "text/html": [
       "<div>\n",
       "<style scoped>\n",
       "    .dataframe tbody tr th:only-of-type {\n",
       "        vertical-align: middle;\n",
       "    }\n",
       "\n",
       "    .dataframe tbody tr th {\n",
       "        vertical-align: top;\n",
       "    }\n",
       "\n",
       "    .dataframe thead th {\n",
       "        text-align: right;\n",
       "    }\n",
       "</style>\n",
       "<table border=\"1\" class=\"dataframe\">\n",
       "  <thead>\n",
       "    <tr style=\"text-align: right;\">\n",
       "      <th></th>\n",
       "      <th>BA in</th>\n",
       "      <th>MI in</th>\n",
       "      <th>BF intra</th>\n",
       "      <th>BA ex</th>\n",
       "      <th>MI Ex</th>\n",
       "      <th>BF ex</th>\n",
       "      <th>BA in.1</th>\n",
       "      <th>MI in.1</th>\n",
       "      <th>BF intra.1</th>\n",
       "      <th>BA ex.1</th>\n",
       "      <th>...</th>\n",
       "      <th>85</th>\n",
       "      <th>86</th>\n",
       "      <th>87</th>\n",
       "      <th>88</th>\n",
       "      <th>89</th>\n",
       "      <th>90</th>\n",
       "      <th>91</th>\n",
       "      <th>92</th>\n",
       "      <th>93</th>\n",
       "      <th>94</th>\n",
       "    </tr>\n",
       "    <tr>\n",
       "      <th>N Pale</th>\n",
       "      <th></th>\n",
       "      <th></th>\n",
       "      <th></th>\n",
       "      <th></th>\n",
       "      <th></th>\n",
       "      <th></th>\n",
       "      <th></th>\n",
       "      <th></th>\n",
       "      <th></th>\n",
       "      <th></th>\n",
       "      <th></th>\n",
       "      <th></th>\n",
       "      <th></th>\n",
       "      <th></th>\n",
       "      <th></th>\n",
       "      <th></th>\n",
       "      <th></th>\n",
       "      <th></th>\n",
       "      <th></th>\n",
       "      <th></th>\n",
       "      <th></th>\n",
       "    </tr>\n",
       "  </thead>\n",
       "  <tbody>\n",
       "    <tr>\n",
       "      <th>1</th>\n",
       "      <td>-0.161086</td>\n",
       "      <td>-0.484324</td>\n",
       "      <td>-0.710906</td>\n",
       "      <td>0.610696</td>\n",
       "      <td>-1.519821</td>\n",
       "      <td>-0.406104</td>\n",
       "      <td>-0.202999</td>\n",
       "      <td>0.801337</td>\n",
       "      <td>-0.171184</td>\n",
       "      <td>0.078842</td>\n",
       "      <td>...</td>\n",
       "      <td>-0.836621</td>\n",
       "      <td>-0.647103</td>\n",
       "      <td>-0.913944</td>\n",
       "      <td>-0.697765</td>\n",
       "      <td>-0.813632</td>\n",
       "      <td>-0.924694</td>\n",
       "      <td>-0.860578</td>\n",
       "      <td>-0.712645</td>\n",
       "      <td>-0.647033</td>\n",
       "      <td>-0.537099</td>\n",
       "    </tr>\n",
       "    <tr>\n",
       "      <th>2</th>\n",
       "      <td>-1.417553</td>\n",
       "      <td>1.089730</td>\n",
       "      <td>1.342822</td>\n",
       "      <td>1.028541</td>\n",
       "      <td>-0.713386</td>\n",
       "      <td>-0.406104</td>\n",
       "      <td>0.324799</td>\n",
       "      <td>-0.500835</td>\n",
       "      <td>-0.171184</td>\n",
       "      <td>-0.433629</td>\n",
       "      <td>...</td>\n",
       "      <td>-0.172433</td>\n",
       "      <td>-0.346663</td>\n",
       "      <td>-0.288614</td>\n",
       "      <td>-0.346178</td>\n",
       "      <td>-0.062991</td>\n",
       "      <td>-0.345368</td>\n",
       "      <td>-0.338494</td>\n",
       "      <td>0.040557</td>\n",
       "      <td>-0.012208</td>\n",
       "      <td>-0.301741</td>\n",
       "    </tr>\n",
       "    <tr>\n",
       "      <th>3</th>\n",
       "      <td>-0.579908</td>\n",
       "      <td>0.914835</td>\n",
       "      <td>0.658246</td>\n",
       "      <td>1.655308</td>\n",
       "      <td>-0.914994</td>\n",
       "      <td>-1.080064</td>\n",
       "      <td>0.324799</td>\n",
       "      <td>0.801337</td>\n",
       "      <td>-0.171184</td>\n",
       "      <td>-0.433629</td>\n",
       "      <td>...</td>\n",
       "      <td>-0.172433</td>\n",
       "      <td>-0.421773</td>\n",
       "      <td>-0.497057</td>\n",
       "      <td>-0.486813</td>\n",
       "      <td>-0.540672</td>\n",
       "      <td>-0.562615</td>\n",
       "      <td>-0.636828</td>\n",
       "      <td>-0.562005</td>\n",
       "      <td>-0.408974</td>\n",
       "      <td>-0.458646</td>\n",
       "    </tr>\n",
       "    <tr>\n",
       "      <th>4</th>\n",
       "      <td>-1.138338</td>\n",
       "      <td>1.614415</td>\n",
       "      <td>1.171678</td>\n",
       "      <td>1.028541</td>\n",
       "      <td>-1.116603</td>\n",
       "      <td>0.604836</td>\n",
       "      <td>1.380397</td>\n",
       "      <td>-0.500835</td>\n",
       "      <td>-1.283881</td>\n",
       "      <td>-1.971041</td>\n",
       "      <td>...</td>\n",
       "      <td>-0.504527</td>\n",
       "      <td>-0.571993</td>\n",
       "      <td>-0.497057</td>\n",
       "      <td>-0.486813</td>\n",
       "      <td>-0.335951</td>\n",
       "      <td>-0.707447</td>\n",
       "      <td>-0.413077</td>\n",
       "      <td>-0.185404</td>\n",
       "      <td>-0.091561</td>\n",
       "      <td>-0.380194</td>\n",
       "    </tr>\n",
       "    <tr>\n",
       "      <th>5</th>\n",
       "      <td>1.095382</td>\n",
       "      <td>-1.183904</td>\n",
       "      <td>-1.737770</td>\n",
       "      <td>-1.896373</td>\n",
       "      <td>0.093050</td>\n",
       "      <td>0.941816</td>\n",
       "      <td>-0.730798</td>\n",
       "      <td>0.801337</td>\n",
       "      <td>2.054210</td>\n",
       "      <td>0.591312</td>\n",
       "      <td>...</td>\n",
       "      <td>-0.421504</td>\n",
       "      <td>-0.722214</td>\n",
       "      <td>-0.427576</td>\n",
       "      <td>-0.486813</td>\n",
       "      <td>-0.608912</td>\n",
       "      <td>-0.635031</td>\n",
       "      <td>-0.487661</td>\n",
       "      <td>-0.486685</td>\n",
       "      <td>-0.488327</td>\n",
       "      <td>-0.537099</td>\n",
       "    </tr>\n",
       "    <tr>\n",
       "      <th>6</th>\n",
       "      <td>-1.696768</td>\n",
       "      <td>-0.134535</td>\n",
       "      <td>-0.882050</td>\n",
       "      <td>-0.642838</td>\n",
       "      <td>0.899486</td>\n",
       "      <td>0.717162</td>\n",
       "      <td>1.908195</td>\n",
       "      <td>-0.500835</td>\n",
       "      <td>0.941513</td>\n",
       "      <td>1.103783</td>\n",
       "      <td>...</td>\n",
       "      <td>-1.251738</td>\n",
       "      <td>-1.097765</td>\n",
       "      <td>-0.983425</td>\n",
       "      <td>-1.260304</td>\n",
       "      <td>-1.359554</td>\n",
       "      <td>-0.924694</td>\n",
       "      <td>-1.084328</td>\n",
       "      <td>-1.541168</td>\n",
       "      <td>-1.599271</td>\n",
       "      <td>-1.243173</td>\n",
       "    </tr>\n",
       "    <tr>\n",
       "      <th>7</th>\n",
       "      <td>0.118129</td>\n",
       "      <td>-1.358799</td>\n",
       "      <td>-0.197474</td>\n",
       "      <td>-0.433916</td>\n",
       "      <td>1.101095</td>\n",
       "      <td>-0.743084</td>\n",
       "      <td>1.380397</td>\n",
       "      <td>2.103509</td>\n",
       "      <td>-0.171184</td>\n",
       "      <td>1.103783</td>\n",
       "      <td>...</td>\n",
       "      <td>-0.836621</td>\n",
       "      <td>-0.872434</td>\n",
       "      <td>-0.913944</td>\n",
       "      <td>-0.768082</td>\n",
       "      <td>-1.018353</td>\n",
       "      <td>-0.635031</td>\n",
       "      <td>-0.636828</td>\n",
       "      <td>-1.013926</td>\n",
       "      <td>-1.202506</td>\n",
       "      <td>-0.772457</td>\n",
       "    </tr>\n",
       "    <tr>\n",
       "      <th>8</th>\n",
       "      <td>-0.300693</td>\n",
       "      <td>1.439520</td>\n",
       "      <td>0.829390</td>\n",
       "      <td>0.401774</td>\n",
       "      <td>-0.108559</td>\n",
       "      <td>-0.630757</td>\n",
       "      <td>-0.202999</td>\n",
       "      <td>-1.803008</td>\n",
       "      <td>-1.283881</td>\n",
       "      <td>-0.433629</td>\n",
       "      <td>...</td>\n",
       "      <td>0.076637</td>\n",
       "      <td>0.028889</td>\n",
       "      <td>-0.010689</td>\n",
       "      <td>-0.135226</td>\n",
       "      <td>0.073489</td>\n",
       "      <td>0.016711</td>\n",
       "      <td>-0.040160</td>\n",
       "      <td>0.040557</td>\n",
       "      <td>0.146498</td>\n",
       "      <td>-0.066383</td>\n",
       "    </tr>\n",
       "    <tr>\n",
       "      <th>9</th>\n",
       "      <td>0.257737</td>\n",
       "      <td>-0.134535</td>\n",
       "      <td>1.171678</td>\n",
       "      <td>-1.060683</td>\n",
       "      <td>1.504313</td>\n",
       "      <td>-0.406104</td>\n",
       "      <td>-0.730798</td>\n",
       "      <td>-0.500835</td>\n",
       "      <td>-0.171184</td>\n",
       "      <td>1.103783</td>\n",
       "      <td>...</td>\n",
       "      <td>0.076637</td>\n",
       "      <td>0.329329</td>\n",
       "      <td>0.267235</td>\n",
       "      <td>0.427313</td>\n",
       "      <td>0.619410</td>\n",
       "      <td>0.378790</td>\n",
       "      <td>0.258173</td>\n",
       "      <td>0.718439</td>\n",
       "      <td>0.860677</td>\n",
       "      <td>0.090522</td>\n",
       "    </tr>\n",
       "    <tr>\n",
       "      <th>10</th>\n",
       "      <td>1.095382</td>\n",
       "      <td>-0.834114</td>\n",
       "      <td>0.487102</td>\n",
       "      <td>-0.433916</td>\n",
       "      <td>0.899486</td>\n",
       "      <td>1.503449</td>\n",
       "      <td>-0.730798</td>\n",
       "      <td>-0.500835</td>\n",
       "      <td>-1.283881</td>\n",
       "      <td>1.103783</td>\n",
       "      <td>...</td>\n",
       "      <td>2.152224</td>\n",
       "      <td>2.056864</td>\n",
       "      <td>2.073745</td>\n",
       "      <td>1.974295</td>\n",
       "      <td>1.915973</td>\n",
       "      <td>2.189186</td>\n",
       "      <td>2.122759</td>\n",
       "      <td>1.923563</td>\n",
       "      <td>1.892268</td>\n",
       "      <td>2.208744</td>\n",
       "    </tr>\n",
       "    <tr>\n",
       "      <th>11</th>\n",
       "      <td>1.234989</td>\n",
       "      <td>-0.134535</td>\n",
       "      <td>-0.710906</td>\n",
       "      <td>0.610696</td>\n",
       "      <td>-0.511777</td>\n",
       "      <td>-1.192391</td>\n",
       "      <td>-0.730798</td>\n",
       "      <td>0.801337</td>\n",
       "      <td>0.941513</td>\n",
       "      <td>-0.433629</td>\n",
       "      <td>...</td>\n",
       "      <td>-0.504527</td>\n",
       "      <td>-0.421773</td>\n",
       "      <td>-0.427576</td>\n",
       "      <td>-0.416495</td>\n",
       "      <td>-0.335951</td>\n",
       "      <td>-0.345368</td>\n",
       "      <td>-0.487661</td>\n",
       "      <td>-0.486685</td>\n",
       "      <td>-0.567680</td>\n",
       "      <td>-0.537099</td>\n",
       "    </tr>\n",
       "    <tr>\n",
       "      <th>12</th>\n",
       "      <td>0.397344</td>\n",
       "      <td>0.215255</td>\n",
       "      <td>-1.053194</td>\n",
       "      <td>-0.016071</td>\n",
       "      <td>-0.713386</td>\n",
       "      <td>-0.743084</td>\n",
       "      <td>-0.730798</td>\n",
       "      <td>-0.500835</td>\n",
       "      <td>-0.171184</td>\n",
       "      <td>-1.458571</td>\n",
       "      <td>...</td>\n",
       "      <td>0.574778</td>\n",
       "      <td>0.930211</td>\n",
       "      <td>0.753603</td>\n",
       "      <td>0.778900</td>\n",
       "      <td>0.755891</td>\n",
       "      <td>0.813285</td>\n",
       "      <td>0.780257</td>\n",
       "      <td>0.643119</td>\n",
       "      <td>0.701970</td>\n",
       "      <td>0.796596</td>\n",
       "    </tr>\n",
       "    <tr>\n",
       "      <th>13</th>\n",
       "      <td>1.095382</td>\n",
       "      <td>-1.009009</td>\n",
       "      <td>-0.368618</td>\n",
       "      <td>-0.851761</td>\n",
       "      <td>1.101095</td>\n",
       "      <td>1.840429</td>\n",
       "      <td>-1.258597</td>\n",
       "      <td>-0.500835</td>\n",
       "      <td>0.941513</td>\n",
       "      <td>0.078842</td>\n",
       "      <td>...</td>\n",
       "      <td>1.820130</td>\n",
       "      <td>1.756424</td>\n",
       "      <td>1.865301</td>\n",
       "      <td>1.903978</td>\n",
       "      <td>1.711253</td>\n",
       "      <td>1.682275</td>\n",
       "      <td>1.824425</td>\n",
       "      <td>1.622282</td>\n",
       "      <td>1.416149</td>\n",
       "      <td>1.738028</td>\n",
       "    </tr>\n",
       "  </tbody>\n",
       "</table>\n",
       "<p>13 rows × 111 columns</p>\n",
       "</div>"
      ],
      "text/plain": [
       "           BA in     MI in  BF intra     BA ex     MI Ex     BF ex   BA in.1  \\\n",
       "N Pale                                                                         \n",
       "1      -0.161086 -0.484324 -0.710906  0.610696 -1.519821 -0.406104 -0.202999   \n",
       "2      -1.417553  1.089730  1.342822  1.028541 -0.713386 -0.406104  0.324799   \n",
       "3      -0.579908  0.914835  0.658246  1.655308 -0.914994 -1.080064  0.324799   \n",
       "4      -1.138338  1.614415  1.171678  1.028541 -1.116603  0.604836  1.380397   \n",
       "5       1.095382 -1.183904 -1.737770 -1.896373  0.093050  0.941816 -0.730798   \n",
       "6      -1.696768 -0.134535 -0.882050 -0.642838  0.899486  0.717162  1.908195   \n",
       "7       0.118129 -1.358799 -0.197474 -0.433916  1.101095 -0.743084  1.380397   \n",
       "8      -0.300693  1.439520  0.829390  0.401774 -0.108559 -0.630757 -0.202999   \n",
       "9       0.257737 -0.134535  1.171678 -1.060683  1.504313 -0.406104 -0.730798   \n",
       "10      1.095382 -0.834114  0.487102 -0.433916  0.899486  1.503449 -0.730798   \n",
       "11      1.234989 -0.134535 -0.710906  0.610696 -0.511777 -1.192391 -0.730798   \n",
       "12      0.397344  0.215255 -1.053194 -0.016071 -0.713386 -0.743084 -0.730798   \n",
       "13      1.095382 -1.009009 -0.368618 -0.851761  1.101095  1.840429 -1.258597   \n",
       "\n",
       "         MI in.1  BF intra.1   BA ex.1  ...        85        86        87  \\\n",
       "N Pale                                  ...                                 \n",
       "1       0.801337   -0.171184  0.078842  ... -0.836621 -0.647103 -0.913944   \n",
       "2      -0.500835   -0.171184 -0.433629  ... -0.172433 -0.346663 -0.288614   \n",
       "3       0.801337   -0.171184 -0.433629  ... -0.172433 -0.421773 -0.497057   \n",
       "4      -0.500835   -1.283881 -1.971041  ... -0.504527 -0.571993 -0.497057   \n",
       "5       0.801337    2.054210  0.591312  ... -0.421504 -0.722214 -0.427576   \n",
       "6      -0.500835    0.941513  1.103783  ... -1.251738 -1.097765 -0.983425   \n",
       "7       2.103509   -0.171184  1.103783  ... -0.836621 -0.872434 -0.913944   \n",
       "8      -1.803008   -1.283881 -0.433629  ...  0.076637  0.028889 -0.010689   \n",
       "9      -0.500835   -0.171184  1.103783  ...  0.076637  0.329329  0.267235   \n",
       "10     -0.500835   -1.283881  1.103783  ...  2.152224  2.056864  2.073745   \n",
       "11      0.801337    0.941513 -0.433629  ... -0.504527 -0.421773 -0.427576   \n",
       "12     -0.500835   -0.171184 -1.458571  ...  0.574778  0.930211  0.753603   \n",
       "13     -0.500835    0.941513  0.078842  ...  1.820130  1.756424  1.865301   \n",
       "\n",
       "              88        89        90        91        92        93        94  \n",
       "N Pale                                                                        \n",
       "1      -0.697765 -0.813632 -0.924694 -0.860578 -0.712645 -0.647033 -0.537099  \n",
       "2      -0.346178 -0.062991 -0.345368 -0.338494  0.040557 -0.012208 -0.301741  \n",
       "3      -0.486813 -0.540672 -0.562615 -0.636828 -0.562005 -0.408974 -0.458646  \n",
       "4      -0.486813 -0.335951 -0.707447 -0.413077 -0.185404 -0.091561 -0.380194  \n",
       "5      -0.486813 -0.608912 -0.635031 -0.487661 -0.486685 -0.488327 -0.537099  \n",
       "6      -1.260304 -1.359554 -0.924694 -1.084328 -1.541168 -1.599271 -1.243173  \n",
       "7      -0.768082 -1.018353 -0.635031 -0.636828 -1.013926 -1.202506 -0.772457  \n",
       "8      -0.135226  0.073489  0.016711 -0.040160  0.040557  0.146498 -0.066383  \n",
       "9       0.427313  0.619410  0.378790  0.258173  0.718439  0.860677  0.090522  \n",
       "10      1.974295  1.915973  2.189186  2.122759  1.923563  1.892268  2.208744  \n",
       "11     -0.416495 -0.335951 -0.345368 -0.487661 -0.486685 -0.567680 -0.537099  \n",
       "12      0.778900  0.755891  0.813285  0.780257  0.643119  0.701970  0.796596  \n",
       "13      1.903978  1.711253  1.682275  1.824425  1.622282  1.416149  1.738028  \n",
       "\n",
       "[13 rows x 111 columns]"
      ]
     },
     "execution_count": 135,
     "metadata": {},
     "output_type": "execute_result"
    }
   ],
   "source": [
    "geo_norm = (geometries- geometries.mean())/geometries.std()\n",
    "geo_norm"
   ]
  },
  {
   "cell_type": "markdown",
   "metadata": {},
   "source": [
    "## 2. Analyse exploratoire des données\n",
    "\n",
    "### 2.1 Affichez le niveau vibratoire de chaque aube sur un bar plot"
   ]
  },
  {
   "cell_type": "code",
   "execution_count": 72,
   "metadata": {},
   "outputs": [],
   "source": [
    "import matplotlib.pyplot as plt"
   ]
  },
  {
   "cell_type": "code",
   "execution_count": 96,
   "metadata": {},
   "outputs": [
    {
     "data": {
      "text/plain": [
       "Text(0.5, 1.0, 'Niveau vibratoire de chaque aube')"
      ]
     },
     "execution_count": 96,
     "metadata": {},
     "output_type": "execute_result"
    },
    {
     "data": {
      "image/png": "[encoded data removed]",
      "text/plain": [
       "<Figure size 432x288 with 1 Axes>"
      ]
     },
     "metadata": {
      "needs_background": "light"
     },
     "output_type": "display_data"
    }
   ],
   "source": [
    "plt.bar(vibrations.index, height=vibrations['Niveau vibratoire 1FPP (mm)'])\n",
    "plt.xlabel('Num de Pale')\n",
    "plt.ylabel('Niveau vibratoire')\n",
    "plt.title('Niveau vibratoire de chaque aube')"
   ]
  },
  {
   "cell_type": "markdown",
   "metadata": {},
   "source": [
    "### 2.2 Analyse par ACP de l'importance des variables géométriques\n",
    "\n",
    "On dispose d'un grand nombre de variables géométriques (111 variables). On souhaite déterminer quelles sont les variables géométriques importantes en analysant leurs poids dans les composantes principales du jeu de données.\n",
    "\n",
    "#### 2.2.1 Effectuez une ACP sur le jeu de données géométriques, puis calculez et visualisez la part de variance expliquée par chaque composante principale. Interprétez le résultat. Quelle part de variance est expliquée par les 2 premières CP ?"
   ]
  },
  {
   "cell_type": "code",
   "execution_count": 97,
   "metadata": {},
   "outputs": [
    {
     "name": "stderr",
     "output_type": "stream",
     "text": [
      "/usr/lib/python3/dist-packages/scipy/__init__.py:146: UserWarning: A NumPy version >=1.17.3 and <1.25.0 is required for this version of SciPy (detected version 1.26.0\n",
      "  warnings.warn(f\"A NumPy version >={np_minversion} and <{np_maxversion}\"\n"
     ]
    }
   ],
   "source": [
    "from sklearn.decomposition import PCA"
   ]
  },
  {
   "cell_type": "code",
   "execution_count": 150,
   "metadata": {},
   "outputs": [],
   "source": [
    "geo_pca = PCA(n_components=2).fit(geo_norm)"
   ]
  },
  {
   "cell_type": "code",
   "execution_count": 151,
   "metadata": {},
   "outputs": [
    {
     "data": {
      "text/plain": [
       "Text(0.5, 1.0, 'Variance en fonction de la composante principale etudiee')"
      ]
     },
     "execution_count": 151,
     "metadata": {},
     "output_type": "execute_result"
    },
    {
     "data": {
      "image/png": "[encoded data removed]",
      "text/plain": [
       "<Figure size 720x432 with 1 Axes>"
      ]
     },
     "metadata": {
      "needs_background": "light"
     },
     "output_type": "display_data"
    }
   ],
   "source": [
    "pca_index = np.array([i+1for i in range(10)])\n",
    "ratio = PCA(n_components=10).fit(geo_norm).explained_variance_ratio_*100\n",
    "\n",
    "\n",
    "plt.figure(figsize=(10,6)) # la méthode figure permet de créer une nouvelle figure et de configurer ses paramètres\n",
    "plt.bar(pca_index, ratio, tick_label =  pca_index)\n",
    "plt.ylabel('Variance expliquee (log scale)')\n",
    "plt.xlabel('PC')\n",
    "plt.title('Variance en fonction de la composante principale etudiee')\n",
    "#plt.yscale(\"log\")"
   ]
  },
  {
   "cell_type": "code",
   "execution_count": 179,
   "metadata": {},
   "outputs": [
    {
     "name": "stdout",
     "output_type": "stream",
     "text": [
      "La part de variance expliquée par la composante 0 est de 79.25775102764652\n",
      "La part de variance expliquée par la composante 1 est de 4.885663584176946\n"
     ]
    }
   ],
   "source": [
    "var_expli = []\n",
    "for i in range(2) :\n",
    "    ratio = geo_pca.explained_variance_ratio_[i]*100\n",
    "    print(f'La part de variance expliquée par la composante {i} est de {ratio}')\n",
    "    var_expli.append(ratio)"
   ]
  },
  {
   "cell_type": "markdown",
   "metadata": {},
   "source": [
    "Les deux premières composantes expliquent 85% des informations. Il n'est pas nécessaire d'aller plus loin car les composantes deviennent très rapidement mineures dans le calcul. "
   ]
  },
  {
   "cell_type": "markdown",
   "metadata": {},
   "source": [
    "Une technique très courante pour analyser l'importance des variables est de visualiser leurs poids dans le plan des 2 premières composantes principales."
   ]
  },
  {
   "cell_type": "markdown",
   "metadata": {},
   "source": [
    "#### 2.2.2 Visualisez le poids des variables géométriques dans le plan (PC1, PC2)\n",
    "\n",
    "**Indice 1 :** utilisez pour cela les composantes des vecteurs principaux de la matrice `pca.components_`.\n",
    "\n",
    "**Indice 2 :** Afin d'obtenir une graphique avec une bonne échelle entre -1 et 1, il est nécessaire d'appliquer aux poids de chaque composante principale un facteur d'échelle égal à $\\sqrt{\\text{variance expliquée}}$.\n",
    "\n",
    "Voici le type de graphique, appelé _PCA factor loadings plot_ en anglais, que vous devriez obtenir :\n",
    "\n",
    "<img src=\"rc/pca-plot.png\" height=500px width=500px />"
   ]
  },
  {
   "cell_type": "code",
   "execution_count": 188,
   "metadata": {},
   "outputs": [
    {
     "data": {
      "image/png": "[encoded data removed]",
      "text/plain": [
       "<Figure size 576x576 with 1 Axes>"
      ]
     },
     "metadata": {
      "needs_background": "light"
     },
     "output_type": "display_data"
    }
   ],
   "source": [
    "PC1, PC2 = geo_pca.components_[0],  geo_pca.components_[1]\n",
    "fig, ax = plt.subplots(figsize= (8,8))\n",
    "\n",
    "plt.scatter(PC1*np.sqrt(var_expli[0]), PC2*np.sqrt(var_expli[1]))\n",
    "ax.set_xlim((-1,1))\n",
    "ax.set_ylim((-1,1))\n",
    "c= plt.Circle((0,0),1, fill = False)\n",
    "ax.add_patch(c)\n",
    "plt.xlabel(f'PC1 {round(var_expli[0], 2)}')\n",
    "plt.ylabel(f'PC2 {round(var_expli[1], 2)}')\n",
    "\n",
    "plt.plot([-1,1], [0,0], 'k', alpha = 0.7)\n",
    "plt.plot([0,0], [-1,1], 'k', alpha = 0.7)\n",
    "\n",
    "\n",
    "for i, txt in enumerate(geo_norm.columns):\n",
    "    ax.annotate(txt, (PC1[i]*np.sqrt(var_expli[0]), PC2[i]*np.sqrt(var_expli[1])))\n",
    "\n",
    "\n",
    "plt.show()"
   ]
  },
  {
   "cell_type": "markdown",
   "metadata": {},
   "source": [
    "#### 2.2.3 Interprétez le graphique précédent. Quelles sont les variables géométriques les plus importantes ?"
   ]
  },
  {
   "cell_type": "markdown",
   "metadata": {},
   "source": [
    "Les variables d'épaisseurs (numérotées de 1 à 94) sont toutes situées dans la partie la plus à droite du plan des composantes principales. Elles ont donc un poids très important sur la PC1, beaucoup plus que les autres variables géométriques. Étant donné que la PC1 représente presque 80% de la variance, on peut en conclure que les variables d'épaisseurs sont les plus importantes."
   ]
  },
  {
   "cell_type": "markdown",
   "metadata": {},
   "source": [
    "Les variables numérotées de 1 à 94 dépendent majoritairement de la combinaison linéaire décrite par la première composante là où les variables géométriques ($\\neq$ épaisseur) dépendent de la première et de la seconde composante sans grand comportement à déduire."
   ]
  },
  {
   "cell_type": "markdown",
   "metadata": {},
   "source": [
    "## 3. Identification de l'aube anormale par analyse des corrélations\n",
    "\n",
    "Suite aux analyses précédentes, on décide de se focaliser sur les variables géométriques correspondant aux épaisseurs de l'aube (variables 1-94). Par ailleurs, les experts mécaniciens nous ont informés que les vibrations étaient corrélées à l'épaisseur de l'aube en différentes points. Par conséquent, nous pouvons décrire les données géométriques en utilisant **seulement la première composante principale** : on se ramène donc à un cas **univarié**, avec une seule variable $\\text{PC1}$ (projection sur la première composante principale).\n",
    "\n",
    "**Objectif :** trouver la permutation circulaire des numérotations d'aubes qui **maximise** la corrélation entre vibrations et épaisseurs des aubes, afin d'identifier l'aube défectueuse.\n",
    "\n",
    "Voici 3 coefficients de corrélation usuels permettant de mesurer l'association de deux variables (ici, $X =\\text{PC1} $ et $Y = \\text{vibration}$) :\n",
    "\n",
    "Coefficient de corrélation | formule | lien wikipédia\n",
    "---------------------------|----------|---------------\n",
    "Corrélation de Pearson     | $\\rho(X, Y) = \\frac{\\text{Cov}(X, Y)}{\\sigma_X \\sigma_Y}$ | https://fr.wikipedia.org/wiki/Corr%C3%A9lation_(statistiques)\n",
    "Corrélation de Spearman    | $\\rho_S(X, Y) = \\frac{\\text{Cov}(\\text{rank}(X), \\text{rank}(Y))}{\\sigma_{\\text{rank}_X} \\sigma_{\\text{rank}(Y)}}$ | https://fr.wikipedia.org/wiki/Corr%C3%A9lation_de_Spearman\n",
    "Corrélation de Kendall     | $\\tau(X, Y) = \\frac{2\\sum_{i<j}\\text{sign}(x_j-x_i)\\text{sign}(y_j-y_i)}{N(N-1)}$ | https://fr.wikipedia.org/wiki/Tau_de_Kendall\n"
   ]
  },
  {
   "cell_type": "markdown",
   "metadata": {},
   "source": [
    "### 3.1 Quel(s) coefficient(s) vous semble(nt) adapté(s) pour analyser les corrélations entre nos variables ?"
   ]
  },
  {
   "cell_type": "markdown",
   "metadata": {},
   "source": []
  },
  {
   "cell_type": "markdown",
   "metadata": {},
   "source": [
    "### 3.2 Calculez les corrélations pour les 12 décalages circulaires possibles entre les données géométriques et les vibrations. Visualisez-les sur un graphique.\n",
    "\n",
    "**Indice :** on peut facilement obtenir une permuation circulaire d'un jeu de données à l'aide de la fonction `numpy.roll(...)`."
   ]
  },
  {
   "cell_type": "markdown",
   "metadata": {},
   "source": [
    "<div style=\"color: #1111bb; font-size: 16px; background-color: #eeeeff; padding: 20px; border-radius: 15px\">\n",
    "    <p><b>Rappel :</b> On n'utilise que la PC1 des variables géométriques !</p>\n",
    "</div>"
   ]
  },
  {
   "cell_type": "markdown",
   "metadata": {},
   "source": [
    "Il est recommandé de calculer les _$p$-values_ associées au coefficient de corrélation choisi. Ces valeurs permettent de déterminer si les corrélations trouvées sont **significatives ou non**. La $p$-value est associée aux deux hypothèses statistiques suivantes :\n",
    "\n",
    "* $\\mathcal{H}_0$ : les variables X et Y sont indépendantes (pas de corrélation)\n",
    "* $\\mathcal{H}_1$ : les variables X et Y sont dépendantes (corrélation)\n",
    "\n",
    "La $p$-value correspond à la **probabilité de se tromper en rejetant l'hypothèse null $\\mathcal{H}_0$**. On fait généralement le choix de rejeter l'hypothèse nulle lorsque $p$-value < 0.05, i.e. moins de 5% de chances de se tromper."
   ]
  },
  {
   "cell_type": "code",
   "execution_count": null,
   "metadata": {},
   "outputs": [],
   "source": [
    "import math\n",
    "def kendall_tau(x, y):\n",
    "    \"\"\"Compute Kendall's tau correlation\n",
    "    \n",
    "    Arguments\n",
    "        xs : float array (n)\n",
    "            input variable 1\n",
    "        ys : float array (n)\n",
    "        input variable 2\n",
    "        \n",
    "    Returns\n",
    "        tau : float in [-1, 1]\n",
    "            correlation coefficient\n",
    "        pvalue : float\n",
    "            p-value\n",
    "    \"\"\"\n",
    "    assert x.size == y.size\n",
    "    size = x.size\n",
    "    \n",
    "    tot = (size * (size-1)) // 2\n",
    "    s = np.array([np.sign(x[j] - x[i]) * np.sign(y[j] - y[i]) for j in range(size) for i in range(j)])\n",
    "    tau = np.sum(s) / tot\n",
    "    \n",
    "    dis = np.sum(s < 0)  # number of discordant pairs\n",
    "    # Exact p-value, see Maurice G. Kendall, \"Rank Correlation Methods\" (4th Edition), Charles Griffin & Co., 1970.\n",
    "    c = min(dis, tot-dis)\n",
    "    if size <= 0:\n",
    "        raise ValueError\n",
    "    elif c < 0 or 2*c > size*(size-1):\n",
    "        raise ValueError\n",
    "    elif size == 1:\n",
    "        pvalue = 1.0\n",
    "    elif size == 2:\n",
    "        pvalue = 1.0\n",
    "    elif c == 0:\n",
    "        pvalue = 2.0/math.factorial(size) if size < 171 else 0.0\n",
    "    elif c == 1:\n",
    "        pvalue = 2.0/math.factorial(size-1) if (size-1) < 171 else 0.0\n",
    "    else:\n",
    "        new = [0.0]*(c+1)\n",
    "        new[0] = 1.0\n",
    "        new[1] = 1.0\n",
    "        for j in range(3,size+1):\n",
    "            old = new[:]\n",
    "            for k in range(1,min(j,c+1)):\n",
    "                new[k] += new[k-1]\n",
    "            for k in range(j,c+1):\n",
    "                new[k] += new[k-1] - old[k-j]\n",
    "        pvalue = 2.0*sum(new)/math.factorial(size) if size < 171 else 0.0\n",
    "        \n",
    "    return tau, pvalue"
   ]
  },
  {
   "cell_type": "code",
   "execution_count": null,
   "metadata": {},
   "outputs": [],
   "source": []
  },
  {
   "cell_type": "markdown",
   "metadata": {},
   "source": [
    "### 3.3 Quel est le décalage circulaire qui maximise la corrélation ? (il peut éventuellement en y avoir plusieurs) Peut-on en déduire l'aube anormale ?"
   ]
  },
  {
   "cell_type": "markdown",
   "metadata": {},
   "source": []
  },
  {
   "cell_type": "markdown",
   "metadata": {},
   "source": [
    "### 3.4 L'analyse de la PC1 ne s'est pas révélée suffisante, une analyse plus fine est nécessaire. Calculez, pour chaque décalage circulaire de la numérotation des aubes, les corrélations entre toutes les variables d'épaisseur (94 variables) et le niveau vibratoire. Concluez sur l'identité de l'aube défaillante, ainsi que sur la zone précise du défaut."
   ]
  },
  {
   "cell_type": "code",
   "execution_count": null,
   "metadata": {},
   "outputs": [],
   "source": []
  }
 ],
 "metadata": {
  "kernelspec": {
   "display_name": "Python 3 (ipykernel)",
   "language": "python",
   "name": "python3"
  },
  "language_info": {
   "codemirror_mode": {
    "name": "ipython",
    "version": 3
   },
   "file_extension": ".py",
   "mimetype": "text/x-python",
   "name": "python",
   "nbconvert_exporter": "python",
   "pygments_lexer": "ipython3",
   "version": "3.10.12"
  }
 },
 "nbformat": 4,
 "nbformat_minor": 4
}
