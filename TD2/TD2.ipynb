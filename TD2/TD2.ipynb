{
 "cells": [
  {
   "cell_type": "markdown",
   "id": "c4e20be0",
   "metadata": {},
   "source": [
    "# TD 2 | Analyse et visualisation de données avec numpy, pandas et matplotlib\n",
    "\n",
    "\n",
    "Objectifs du TD :\n",
    "\n",
    "* découvrir la visualisation de données avec matplotlib\n",
    "* approfondir la maîtrise de numpy et pandas\n",
    "* effectuer une première analyse exploratoire de données (EDA)\n",
    "* découvrir la librairie de machine learning (ML) scikit-learn\n",
    "* appliquer des techniques basiques d'apprentissage non supervisé pour visualiser et classifier des données (PCA, $k$-means)\n",
    "\n",
    "---"
   ]
  },
  {
   "cell_type": "markdown",
   "id": "afc432b9",
   "metadata": {},
   "source": [
    "## 1. Exploratory Data Analysis (EDA) avec matplotlib\n",
    "\n",
    "<img src=\"./rc/matplotlib.png\" />\n",
    "\n",
    "La librairie la plus couramment utilisée pour visualiser des données en Python est matplotlib (https://matplotlib.org/). D'autres librairies très utilisées et permettant certaines fonctionnalités plus avancées sont plotly (https://plot.ly/python/), bokeh (https://bokeh.pydata.org/en/latest/) ou encore seaborn (https://seaborn.pydata.org/). Nous allons dans un premier temps découvrir la première, matplotlib.\n",
    "\n",
    "Le contexte permettant de tracer des graphes est `matplotlib.pyplot`, que l'on abrège souvent par `plt`, comme ci-dessous :"
   ]
  },
  {
   "cell_type": "code",
   "execution_count": 46,
   "id": "237e6bcf",
   "metadata": {},
   "outputs": [],
   "source": [
    "import matplotlib.pyplot as plt\n",
    "plt.rcParams[\"figure.figsize\"] = (20, 10)"
   ]
  },
  {
   "cell_type": "markdown",
   "id": "967b0872",
   "metadata": {},
   "source": [
    "**La documentation de pyplot : https://matplotlib.org/api/_as_gen/matplotlib.pyplot.html#module-matplotlib.pyplot**\n",
    "\n",
    "Découvrons les différents types de graphes en pratique, à l'aide du fichier `Vol010.csv`.\n",
    "\n",
    "### Chargement des données de vol"
   ]
  },
  {
   "cell_type": "code",
   "execution_count": 2,
   "id": "627e5ef3",
   "metadata": {},
   "outputs": [],
   "source": [
    "#!git clone https://github.com/MadaneA/MACS3-Statistiques-Descriptives-TDs.git"
   ]
  },
  {
   "cell_type": "code",
   "execution_count": 4,
   "id": "1d6cf7cb",
   "metadata": {},
   "outputs": [
    {
     "data": {
      "text/plain": [
       "'/home/valentin/Documents/Cours/MACS/MACS3/madane/stats_descriptives/TD2'"
      ]
     },
     "execution_count": 4,
     "metadata": {},
     "output_type": "execute_result"
    }
   ],
   "source": [
    "import os\n",
    "os.getcwd()"
   ]
  },
  {
   "cell_type": "code",
   "execution_count": 12,
   "id": "a6d5b1fe",
   "metadata": {},
   "outputs": [],
   "source": [
    "import os\n",
    "rawdir = '/home/valentin/Documents/Cours/MACS/MACS3/madane/MACS3-Statistiques-Descriptives-TDs'\n",
    "#os.chdir('MACS3-Statistiques-Descriptives-TDs')\n",
    "os.chdir(rawdir)"
   ]
  },
  {
   "cell_type": "code",
   "execution_count": 6,
   "id": "4bad92bf",
   "metadata": {},
   "outputs": [],
   "source": [
    "import pandas as pd\n",
    "import numpy as np"
   ]
  },
  {
   "cell_type": "code",
   "execution_count": 20,
   "id": "fe53c529",
   "metadata": {},
   "outputs": [
    {
     "name": "stderr",
     "output_type": "stream",
     "text": [
      "/tmp/ipykernel_47313/4137122529.py:4: UserWarning: Parsing dates in %d/%m/%Y %H:%M:%S.%f format when dayfirst=False (the default) was specified. Pass `dayfirst=True` or specify a format to silence this warning.\n",
      "  vol['t'] = pd.to_datetime(vol['t'])\n"
     ]
    }
   ],
   "source": [
    "# Ne pas modifier\n",
    "vol = pd.read_csv(\"./data/Vol010.csv\").drop(0).dropna(how='any').iloc[::10] # On ne garde qu'un point sur 10 pour limiter les points à affichervol\n",
    "vol.index = np.arange(vol.shape[0])\n",
    "vol['t'] = pd.to_datetime(vol['t'])\n",
    "vol[vol.columns[1:]] = vol[vol.columns[1:]].apply(pd.to_numeric)\n",
    "vol['FLIGHT_MOD'] = vol['FLIGHT_MOD'].apply(int)"
   ]
  },
  {
   "cell_type": "code",
   "execution_count": 14,
   "id": "d8d4deeb",
   "metadata": {},
   "outputs": [
    {
     "data": {
      "text/plain": [
       "t             datetime64[ns]\n",
       "EGT_SEL              float64\n",
       "FLIGHT_MOD             int64\n",
       "FMV_SEL              float64\n",
       "HPTC_SEL             float64\n",
       "LPTC_SEL             float64\n",
       "N1_SEL               float64\n",
       "N2_ACTSEL            float64\n",
       "OIL_P                float64\n",
       "OIL_TEMP             float64\n",
       "PS3_SEL              float64\n",
       "PT2_SEL              float64\n",
       "P0_SEL               float64\n",
       "TAT                  float64\n",
       "TBV_SEL              float64\n",
       "TRA_SEL              float64\n",
       "T25_SEL              float64\n",
       "T3_SEL               float64\n",
       "VBV_SEL              float64\n",
       "VIB_CN1              float64\n",
       "VIB_CN2              float64\n",
       "VIB_TN1              float64\n",
       "VIB_TN2              float64\n",
       "VSV_SEL              float64\n",
       "WFM_SEL              float64\n",
       "XM                   float64\n",
       "dtype: object"
      ]
     },
     "execution_count": 14,
     "metadata": {},
     "output_type": "execute_result"
    }
   ],
   "source": [
    "vol.dtypes"
   ]
  },
  {
   "cell_type": "code",
   "execution_count": 21,
   "id": "fb2c2e71",
   "metadata": {},
   "outputs": [
    {
     "name": "stdout",
     "output_type": "stream",
     "text": [
      "(2283, 26)\n"
     ]
    },
    {
     "data": {
      "text/html": [
       "<div>\n",
       "<style scoped>\n",
       "    .dataframe tbody tr th:only-of-type {\n",
       "        vertical-align: middle;\n",
       "    }\n",
       "\n",
       "    .dataframe tbody tr th {\n",
       "        vertical-align: top;\n",
       "    }\n",
       "\n",
       "    .dataframe thead th {\n",
       "        text-align: right;\n",
       "    }\n",
       "</style>\n",
       "<table border=\"1\" class=\"dataframe\">\n",
       "  <thead>\n",
       "    <tr style=\"text-align: right;\">\n",
       "      <th></th>\n",
       "      <th>t</th>\n",
       "      <th>EGT_SEL</th>\n",
       "      <th>FLIGHT_MOD</th>\n",
       "      <th>FMV_SEL</th>\n",
       "      <th>HPTC_SEL</th>\n",
       "      <th>LPTC_SEL</th>\n",
       "      <th>N1_SEL</th>\n",
       "      <th>N2_ACTSEL</th>\n",
       "      <th>OIL_P</th>\n",
       "      <th>OIL_TEMP</th>\n",
       "      <th>...</th>\n",
       "      <th>T25_SEL</th>\n",
       "      <th>T3_SEL</th>\n",
       "      <th>VBV_SEL</th>\n",
       "      <th>VIB_CN1</th>\n",
       "      <th>VIB_CN2</th>\n",
       "      <th>VIB_TN1</th>\n",
       "      <th>VIB_TN2</th>\n",
       "      <th>VSV_SEL</th>\n",
       "      <th>WFM_SEL</th>\n",
       "      <th>XM</th>\n",
       "    </tr>\n",
       "  </thead>\n",
       "  <tbody>\n",
       "    <tr>\n",
       "      <th>0</th>\n",
       "      <td>2011-09-15 14:26:02.875</td>\n",
       "      <td>335.984000</td>\n",
       "      <td>1</td>\n",
       "      <td>0.0</td>\n",
       "      <td>0.0</td>\n",
       "      <td>0.0</td>\n",
       "      <td>0.0</td>\n",
       "      <td>0.0</td>\n",
       "      <td>0.000</td>\n",
       "      <td>177.3740</td>\n",
       "      <td>...</td>\n",
       "      <td>-128.0</td>\n",
       "      <td>0.0</td>\n",
       "      <td>0.0</td>\n",
       "      <td>0.0</td>\n",
       "      <td>0.0</td>\n",
       "      <td>0.0</td>\n",
       "      <td>0.0</td>\n",
       "      <td>0.0</td>\n",
       "      <td>7679.84</td>\n",
       "      <td>0.15</td>\n",
       "    </tr>\n",
       "    <tr>\n",
       "      <th>1</th>\n",
       "      <td>2011-09-15 14:26:05.375</td>\n",
       "      <td>72.000600</td>\n",
       "      <td>1</td>\n",
       "      <td>0.0</td>\n",
       "      <td>0.0</td>\n",
       "      <td>0.0</td>\n",
       "      <td>0.0</td>\n",
       "      <td>0.0</td>\n",
       "      <td>0.000</td>\n",
       "      <td>68.0000</td>\n",
       "      <td>...</td>\n",
       "      <td>-128.0</td>\n",
       "      <td>0.0</td>\n",
       "      <td>0.0</td>\n",
       "      <td>0.0</td>\n",
       "      <td>0.0</td>\n",
       "      <td>0.0</td>\n",
       "      <td>0.0</td>\n",
       "      <td>0.0</td>\n",
       "      <td>0.00</td>\n",
       "      <td>0.15</td>\n",
       "    </tr>\n",
       "    <tr>\n",
       "      <th>2</th>\n",
       "      <td>2011-09-15 14:26:07.875</td>\n",
       "      <td>72.001100</td>\n",
       "      <td>1</td>\n",
       "      <td>0.0</td>\n",
       "      <td>0.0</td>\n",
       "      <td>0.0</td>\n",
       "      <td>0.0</td>\n",
       "      <td>0.0</td>\n",
       "      <td>0.000</td>\n",
       "      <td>68.0000</td>\n",
       "      <td>...</td>\n",
       "      <td>-128.0</td>\n",
       "      <td>0.0</td>\n",
       "      <td>0.0</td>\n",
       "      <td>0.0</td>\n",
       "      <td>0.0</td>\n",
       "      <td>0.0</td>\n",
       "      <td>0.0</td>\n",
       "      <td>0.0</td>\n",
       "      <td>0.00</td>\n",
       "      <td>0.15</td>\n",
       "    </tr>\n",
       "    <tr>\n",
       "      <th>3</th>\n",
       "      <td>2011-09-15 14:26:10.375</td>\n",
       "      <td>527.978000</td>\n",
       "      <td>1</td>\n",
       "      <td>0.0</td>\n",
       "      <td>0.0</td>\n",
       "      <td>0.0</td>\n",
       "      <td>0.0</td>\n",
       "      <td>0.0</td>\n",
       "      <td>0.000</td>\n",
       "      <td>68.0000</td>\n",
       "      <td>...</td>\n",
       "      <td>-128.0</td>\n",
       "      <td>0.0</td>\n",
       "      <td>0.0</td>\n",
       "      <td>0.0</td>\n",
       "      <td>0.0</td>\n",
       "      <td>0.0</td>\n",
       "      <td>0.0</td>\n",
       "      <td>0.0</td>\n",
       "      <td>10752.10</td>\n",
       "      <td>0.15</td>\n",
       "    </tr>\n",
       "    <tr>\n",
       "      <th>4</th>\n",
       "      <td>2011-09-15 14:26:12.875</td>\n",
       "      <td>-0.001335</td>\n",
       "      <td>1</td>\n",
       "      <td>0.0</td>\n",
       "      <td>0.0</td>\n",
       "      <td>0.0</td>\n",
       "      <td>0.0</td>\n",
       "      <td>0.0</td>\n",
       "      <td>456.002</td>\n",
       "      <td>44.6249</td>\n",
       "      <td>...</td>\n",
       "      <td>-128.0</td>\n",
       "      <td>0.0</td>\n",
       "      <td>0.0</td>\n",
       "      <td>0.0</td>\n",
       "      <td>0.0</td>\n",
       "      <td>0.0</td>\n",
       "      <td>0.0</td>\n",
       "      <td>0.0</td>\n",
       "      <td>0.00</td>\n",
       "      <td>0.15</td>\n",
       "    </tr>\n",
       "  </tbody>\n",
       "</table>\n",
       "<p>5 rows × 26 columns</p>\n",
       "</div>"
      ],
      "text/plain": [
       "                        t     EGT_SEL  FLIGHT_MOD  FMV_SEL  HPTC_SEL  \\\n",
       "0 2011-09-15 14:26:02.875  335.984000           1      0.0       0.0   \n",
       "1 2011-09-15 14:26:05.375   72.000600           1      0.0       0.0   \n",
       "2 2011-09-15 14:26:07.875   72.001100           1      0.0       0.0   \n",
       "3 2011-09-15 14:26:10.375  527.978000           1      0.0       0.0   \n",
       "4 2011-09-15 14:26:12.875   -0.001335           1      0.0       0.0   \n",
       "\n",
       "   LPTC_SEL  N1_SEL  N2_ACTSEL    OIL_P  OIL_TEMP  ...  T25_SEL  T3_SEL  \\\n",
       "0       0.0     0.0        0.0    0.000  177.3740  ...   -128.0     0.0   \n",
       "1       0.0     0.0        0.0    0.000   68.0000  ...   -128.0     0.0   \n",
       "2       0.0     0.0        0.0    0.000   68.0000  ...   -128.0     0.0   \n",
       "3       0.0     0.0        0.0    0.000   68.0000  ...   -128.0     0.0   \n",
       "4       0.0     0.0        0.0  456.002   44.6249  ...   -128.0     0.0   \n",
       "\n",
       "   VBV_SEL  VIB_CN1  VIB_CN2  VIB_TN1  VIB_TN2  VSV_SEL   WFM_SEL    XM  \n",
       "0      0.0      0.0      0.0      0.0      0.0      0.0   7679.84  0.15  \n",
       "1      0.0      0.0      0.0      0.0      0.0      0.0      0.00  0.15  \n",
       "2      0.0      0.0      0.0      0.0      0.0      0.0      0.00  0.15  \n",
       "3      0.0      0.0      0.0      0.0      0.0      0.0  10752.10  0.15  \n",
       "4      0.0      0.0      0.0      0.0      0.0      0.0      0.00  0.15  \n",
       "\n",
       "[5 rows x 26 columns]"
      ]
     },
     "execution_count": 21,
     "metadata": {},
     "output_type": "execute_result"
    }
   ],
   "source": [
    "print(vol.shape)\n",
    "vol.head()"
   ]
  },
  {
   "cell_type": "markdown",
   "id": "f97c3e56",
   "metadata": {},
   "source": [
    "### Line/Scatter plot : Visualisation d'un vol avec `plt.plot`"
   ]
  },
  {
   "cell_type": "markdown",
   "id": "bde84a90",
   "metadata": {},
   "source": [
    "La méthode `plt.plot(x=..., y=..., options)` permet de visualiser des points sur un graphique. La commande ci-dessous affiche la valeur d'une variable au cours du temps. "
   ]
  },
  {
   "cell_type": "code",
   "execution_count": 47,
   "id": "6e936290",
   "metadata": {},
   "outputs": [
    {
     "data": {
      "text/plain": [
       "[<matplotlib.lines.Line2D at 0x7f1a9827cf10>]"
      ]
     },
     "execution_count": 47,
     "metadata": {},
     "output_type": "execute_result"
    },
    {
     "data": {
      "image/png": "[encoded data removed]",
      "text/plain": [
       "<Figure size 1440x720 with 1 Axes>"
      ]
     },
     "metadata": {
      "needs_background": "light"
     },
     "output_type": "display_data"
    }
   ],
   "source": [
    "plt.plot(vol['t'].values, vol['EGT_SEL'].values)"
   ]
  },
  {
   "cell_type": "markdown",
   "id": "2bcde177",
   "metadata": {},
   "source": [
    "Il est possible de superposer deux graphes en appelant plusieurs points plt.plot(). De plus, plot() peut recevoir une grande quantité d'options pour personnaliser l'aspect de la courbe :\n",
    "\n",
    "- ligne ou points\n",
    "- type de marqueur\n",
    "- couleurs, taille/épaisseur de trait\n",
    "- ...\n",
    "\n",
    "Certaines options peuvent être combinées et exprimées sous forme de chaîne de caractère. Par exemple, 'b^--' signifie \"marqueurs bleus en forme de triangles, reliés par un trait pointillé\"."
   ]
  },
  {
   "cell_type": "code",
   "execution_count": 27,
   "id": "d8d277d4",
   "metadata": {},
   "outputs": [
    {
     "data": {
      "text/plain": [
       "[<matplotlib.lines.Line2D at 0x7f1a99b70e20>]"
      ]
     },
     "execution_count": 27,
     "metadata": {},
     "output_type": "execute_result"
    },
    {
     "data": {
      "image/png": "[encoded data removed]",
      "text/plain": [
       "<Figure size 432x288 with 1 Axes>"
      ]
     },
     "metadata": {
      "needs_background": "light"
     },
     "output_type": "display_data"
    }
   ],
   "source": [
    "plt.plot(vol['t'].values, vol['EGT_SEL'].values, 'b--', linewidth=1)\n",
    "plt.plot(vol['t'].values, vol['T3_SEL'].values, 'k-')"
   ]
  },
  {
   "cell_type": "markdown",
   "id": "9d5de9c4",
   "metadata": {},
   "source": [
    "Il est possible de visualiser plusieurs graphiques de manière juxtaposée. La méthode utilisée est plt.subplot().\n",
    "Ses paramètres sont : le nombre de lignes, le nombre de colonnes, et le sous-plot sur lequel vous vous trouvez. \n",
    "\n",
    "Ainsi, dans plt.subplot(1, 2, 1); 1, 2, 1 signifie \"une figure à 1 ligne et 2 colonnes : allez au premier sous-plot\". Ensuite, 1, 2, 2 signifie \"une figure à 1 ligne et 2 colonnes : passez au deuxième sous-plot\"\n",
    "\n",
    "plt.figure(figsize=(x,y)) permet de définir la taille des plots, avec x : longueur et y: largeur.\n",
    "\n",
    "plt.xlim(inf,sup) et plt.ylim(inf,sup) permettent de fixer la borne inférieur et supérieur respectivement de l'axe x et l'axe y."
   ]
  },
  {
   "cell_type": "code",
   "execution_count": 29,
   "id": "522e9493",
   "metadata": {
    "scrolled": true
   },
   "outputs": [
    {
     "data": {
      "text/plain": [
       "(-600.0, 850.0)"
      ]
     },
     "execution_count": 29,
     "metadata": {},
     "output_type": "execute_result"
    },
    {
     "data": {
      "image/png": "[encoded data removed]",
      "text/plain": [
       "<Figure size 1800x360 with 2 Axes>"
      ]
     },
     "metadata": {
      "needs_background": "light"
     },
     "output_type": "display_data"
    }
   ],
   "source": [
    "fig = plt.figure(figsize=(25,5))\n",
    "\n",
    "plt.subplot(1, 2, 1)\n",
    "plt.plot(vol['t'].values, vol['EGT_SEL'].values, 'b--', linewidth=1)\n",
    "plt.ylim(-600,850)\n",
    "\n",
    "plt.subplot(1, 2, 2)\n",
    "plt.plot(vol['t'].values, vol['T3_SEL'].values, 'k-')\n",
    "plt.ylim(-600,850)\n",
    "         "
   ]
  },
  {
   "cell_type": "code",
   "execution_count": 36,
   "id": "9e8e0a7f",
   "metadata": {},
   "outputs": [
    {
     "data": {
      "text/plain": [
       "Text(0, 0.5, 'Temperature')"
      ]
     },
     "execution_count": 36,
     "metadata": {},
     "output_type": "execute_result"
    },
    {
     "data": {
      "image/png": "[encoded data removed]",
      "text/plain": [
       "<Figure size 1800x360 with 1 Axes>"
      ]
     },
     "metadata": {
      "needs_background": "light"
     },
     "output_type": "display_data"
    }
   ],
   "source": [
    "\"\"\"\n",
    "EXERCICE - Plot avec titres et légende\n",
    "\n",
    "Explorez la documentation de pyplot our ajouter au graphe précédent :\n",
    "1. Un titre à la figure\n",
    "2. Des titres aux axes\n",
    "3. Une légende\n",
    "\"\"\"\n",
    "\n",
    "fig, ax = plt.subplots(figsize=(25,5))\n",
    "plt.plot(vol['t'].values, vol['EGT_SEL'].values, 'b--', linewidth=1)\n",
    "plt.plot(vol['t'].values, vol['T3_SEL'].values, 'k-')\n",
    "plt.title('Some variables time-series')\n",
    "plt.legend(['EGT', 'T3'])\n",
    "plt.ylim(-600,850)\n",
    "\n",
    "#ax2 = plt.twinx(ax =ax)\n",
    "plt.xlabel('Time')\n",
    "plt.ylabel('Temperature')\n",
    "\n"
   ]
  },
  {
   "cell_type": "markdown",
   "id": "750c316f",
   "metadata": {},
   "source": [
    "### Corrélation"
   ]
  },
  {
   "cell_type": "markdown",
   "id": "2063497e",
   "metadata": {},
   "source": [
    "Utiliser la méthode corrcoef du module numpy pour calculer la corrélation entre deux variables X et Y."
   ]
  },
  {
   "cell_type": "code",
   "execution_count": 37,
   "id": "847ce02f",
   "metadata": {},
   "outputs": [
    {
     "name": "stdout",
     "output_type": "stream",
     "text": [
      "[[1.         0.93912182]\n",
      " [0.93912182 1.        ]]\n"
     ]
    }
   ],
   "source": [
    "my_rho = np.corrcoef(vol['T3_SEL'].values, vol['N1_SEL'].values)\n",
    "\n",
    "print(my_rho)"
   ]
  },
  {
   "cell_type": "markdown",
   "id": "41208b1a",
   "metadata": {},
   "source": [
    "Nuage de point entre les deux variables T3 et N1 :"
   ]
  },
  {
   "cell_type": "code",
   "execution_count": 40,
   "id": "24670312",
   "metadata": {},
   "outputs": [
    {
     "data": {
      "image/png": "[encoded data removed]",
      "text/plain": [
       "<Figure size 432x288 with 1 Axes>"
      ]
     },
     "metadata": {
      "needs_background": "light"
     },
     "output_type": "display_data"
    }
   ],
   "source": [
    "plt.scatter(vol['T3_SEL'].values,vol['N1_SEL'].values)\n",
    "plt.ylabel('N1')\n",
    "plt.xlabel('T3')\n",
    "plt.title('Correlation = ' + \"{:.2f}\".format(my_rho[0,1]))\n",
    "plt.show()"
   ]
  },
  {
   "cell_type": "code",
   "execution_count": 42,
   "id": "88487c50",
   "metadata": {},
   "outputs": [
    {
     "name": "stderr",
     "output_type": "stream",
     "text": [
      "/usr/lib/python3/dist-packages/scipy/__init__.py:146: UserWarning: A NumPy version >=1.17.3 and <1.25.0 is required for this version of SciPy (detected version 1.26.0\n",
      "  warnings.warn(f\"A NumPy version >={np_minversion} and <{np_maxversion}\"\n"
     ]
    },
    {
     "data": {
      "text/plain": [
       "<AxesSubplot:>"
      ]
     },
     "execution_count": 42,
     "metadata": {},
     "output_type": "execute_result"
    },
    {
     "data": {
      "image/png": "[encoded data removed]",
      "text/plain": [
       "<Figure size 1440x1080 with 2 Axes>"
      ]
     },
     "metadata": {
      "needs_background": "light"
     },
     "output_type": "display_data"
    }
   ],
   "source": [
    "import seaborn as sns\n",
    "\n",
    "# calculate the correlation matrix\n",
    "corr = vol.corr()\n",
    "\n",
    "# plot the heatmap\n",
    "fig = plt.figure(figsize=(20,15))\n",
    "\n",
    "sns.heatmap(corr, \n",
    "        xticklabels=corr.columns,\n",
    "        yticklabels=corr.columns, annot=False, fmt='.2f', vmin=-1, vmax=1, center=0, \n",
    "        cmap=sns.diverging_palette(20, 220, n=200))\n",
    "\n",
    "# Essayer avec annot=True"
   ]
  },
  {
   "cell_type": "markdown",
   "id": "98b4bf02",
   "metadata": {},
   "source": [
    "### Bar plot : temps passé dans chaque phase de vol avec `plt.bar`\n",
    "\n",
    "Pour afficher un ensemble réduit de valeurs, le diagramme le plus adapté est le bar plot. Tout d'abord, il nous faut calculer le nombre de lignes du vol par phase de vol. La phase de vol est symbolisée par la variable `FLIGHT_MOD`. On suppose la correspondance suivante :\n",
    "\n",
    "`FLIGHT_MOD` | Phase de vol\n",
    "-------------|-------------\n",
    "1 | taxi\n",
    "2 | take_off\n",
    "3 | begin_climb\n",
    "4 | climb\n",
    "5 | cruise_climb\n",
    "6 | cruise\n",
    "7 | descent\n",
    "8 | approach\n",
    "9 | flare\n",
    "10 | landing"
   ]
  },
  {
   "cell_type": "code",
   "execution_count": 48,
   "id": "1c039024",
   "metadata": {},
   "outputs": [
    {
     "data": {
      "text/plain": [
       "<matplotlib.legend.Legend at 0x7f1a9129c3a0>"
      ]
     },
     "execution_count": 48,
     "metadata": {},
     "output_type": "execute_result"
    },
    {
     "data": {
      "image/png": "[encoded data removed]",
      "text/plain": [
       "<Figure size 1440x720 with 1 Axes>"
      ]
     },
     "metadata": {
      "needs_background": "light"
     },
     "output_type": "display_data"
    }
   ],
   "source": [
    "plt.plot(vol['t'].values, vol['FLIGHT_MOD'].values, label='FLIGHT_MOD')\n",
    "plt.legend()"
   ]
  },
  {
   "cell_type": "code",
   "execution_count": 60,
   "id": "5d136b21",
   "metadata": {},
   "outputs": [
    {
     "data": {
      "text/html": [
       "<div>\n",
       "<style scoped>\n",
       "    .dataframe tbody tr th:only-of-type {\n",
       "        vertical-align: middle;\n",
       "    }\n",
       "\n",
       "    .dataframe tbody tr th {\n",
       "        vertical-align: top;\n",
       "    }\n",
       "\n",
       "    .dataframe thead th {\n",
       "        text-align: right;\n",
       "    }\n",
       "</style>\n",
       "<table border=\"1\" class=\"dataframe\">\n",
       "  <thead>\n",
       "    <tr style=\"text-align: right;\">\n",
       "      <th></th>\n",
       "      <th>t</th>\n",
       "      <th>EGT_SEL</th>\n",
       "      <th>FLIGHT_MOD</th>\n",
       "      <th>FMV_SEL</th>\n",
       "      <th>HPTC_SEL</th>\n",
       "      <th>LPTC_SEL</th>\n",
       "      <th>N1_SEL</th>\n",
       "      <th>N2_ACTSEL</th>\n",
       "      <th>OIL_P</th>\n",
       "      <th>OIL_TEMP</th>\n",
       "      <th>...</th>\n",
       "      <th>T3_SEL</th>\n",
       "      <th>VBV_SEL</th>\n",
       "      <th>VIB_CN1</th>\n",
       "      <th>VIB_CN2</th>\n",
       "      <th>VIB_TN1</th>\n",
       "      <th>VIB_TN2</th>\n",
       "      <th>VSV_SEL</th>\n",
       "      <th>WFM_SEL</th>\n",
       "      <th>XM</th>\n",
       "      <th>FLIGHT_PHASE</th>\n",
       "    </tr>\n",
       "  </thead>\n",
       "  <tbody>\n",
       "    <tr>\n",
       "      <th>0</th>\n",
       "      <td>2011-09-15 14:26:02.875</td>\n",
       "      <td>335.984000</td>\n",
       "      <td>1</td>\n",
       "      <td>0.000</td>\n",
       "      <td>0.0</td>\n",
       "      <td>0.0</td>\n",
       "      <td>0.0</td>\n",
       "      <td>0.0</td>\n",
       "      <td>0.000</td>\n",
       "      <td>177.3740</td>\n",
       "      <td>...</td>\n",
       "      <td>0.0</td>\n",
       "      <td>0.0</td>\n",
       "      <td>0.0</td>\n",
       "      <td>0.0</td>\n",
       "      <td>0.0</td>\n",
       "      <td>0.0</td>\n",
       "      <td>0.0</td>\n",
       "      <td>7679.84</td>\n",
       "      <td>0.15</td>\n",
       "      <td>taxi</td>\n",
       "    </tr>\n",
       "    <tr>\n",
       "      <th>1</th>\n",
       "      <td>2011-09-15 14:26:05.375</td>\n",
       "      <td>72.000600</td>\n",
       "      <td>1</td>\n",
       "      <td>0.000</td>\n",
       "      <td>0.0</td>\n",
       "      <td>0.0</td>\n",
       "      <td>0.0</td>\n",
       "      <td>0.0</td>\n",
       "      <td>0.000</td>\n",
       "      <td>68.0000</td>\n",
       "      <td>...</td>\n",
       "      <td>0.0</td>\n",
       "      <td>0.0</td>\n",
       "      <td>0.0</td>\n",
       "      <td>0.0</td>\n",
       "      <td>0.0</td>\n",
       "      <td>0.0</td>\n",
       "      <td>0.0</td>\n",
       "      <td>0.00</td>\n",
       "      <td>0.15</td>\n",
       "      <td>taxi</td>\n",
       "    </tr>\n",
       "    <tr>\n",
       "      <th>2</th>\n",
       "      <td>2011-09-15 14:26:07.875</td>\n",
       "      <td>72.001100</td>\n",
       "      <td>1</td>\n",
       "      <td>0.000</td>\n",
       "      <td>0.0</td>\n",
       "      <td>0.0</td>\n",
       "      <td>0.0</td>\n",
       "      <td>0.0</td>\n",
       "      <td>0.000</td>\n",
       "      <td>68.0000</td>\n",
       "      <td>...</td>\n",
       "      <td>0.0</td>\n",
       "      <td>0.0</td>\n",
       "      <td>0.0</td>\n",
       "      <td>0.0</td>\n",
       "      <td>0.0</td>\n",
       "      <td>0.0</td>\n",
       "      <td>0.0</td>\n",
       "      <td>0.00</td>\n",
       "      <td>0.15</td>\n",
       "      <td>taxi</td>\n",
       "    </tr>\n",
       "    <tr>\n",
       "      <th>3</th>\n",
       "      <td>2011-09-15 14:26:10.375</td>\n",
       "      <td>527.978000</td>\n",
       "      <td>1</td>\n",
       "      <td>0.000</td>\n",
       "      <td>0.0</td>\n",
       "      <td>0.0</td>\n",
       "      <td>0.0</td>\n",
       "      <td>0.0</td>\n",
       "      <td>0.000</td>\n",
       "      <td>68.0000</td>\n",
       "      <td>...</td>\n",
       "      <td>0.0</td>\n",
       "      <td>0.0</td>\n",
       "      <td>0.0</td>\n",
       "      <td>0.0</td>\n",
       "      <td>0.0</td>\n",
       "      <td>0.0</td>\n",
       "      <td>0.0</td>\n",
       "      <td>10752.10</td>\n",
       "      <td>0.15</td>\n",
       "      <td>taxi</td>\n",
       "    </tr>\n",
       "    <tr>\n",
       "      <th>4</th>\n",
       "      <td>2011-09-15 14:26:12.875</td>\n",
       "      <td>-0.001335</td>\n",
       "      <td>1</td>\n",
       "      <td>0.000</td>\n",
       "      <td>0.0</td>\n",
       "      <td>0.0</td>\n",
       "      <td>0.0</td>\n",
       "      <td>0.0</td>\n",
       "      <td>456.002</td>\n",
       "      <td>44.6249</td>\n",
       "      <td>...</td>\n",
       "      <td>0.0</td>\n",
       "      <td>0.0</td>\n",
       "      <td>0.0</td>\n",
       "      <td>0.0</td>\n",
       "      <td>0.0</td>\n",
       "      <td>0.0</td>\n",
       "      <td>0.0</td>\n",
       "      <td>0.00</td>\n",
       "      <td>0.15</td>\n",
       "      <td>taxi</td>\n",
       "    </tr>\n",
       "    <tr>\n",
       "      <th>...</th>\n",
       "      <td>...</td>\n",
       "      <td>...</td>\n",
       "      <td>...</td>\n",
       "      <td>...</td>\n",
       "      <td>...</td>\n",
       "      <td>...</td>\n",
       "      <td>...</td>\n",
       "      <td>...</td>\n",
       "      <td>...</td>\n",
       "      <td>...</td>\n",
       "      <td>...</td>\n",
       "      <td>...</td>\n",
       "      <td>...</td>\n",
       "      <td>...</td>\n",
       "      <td>...</td>\n",
       "      <td>...</td>\n",
       "      <td>...</td>\n",
       "      <td>...</td>\n",
       "      <td>...</td>\n",
       "      <td>...</td>\n",
       "      <td>...</td>\n",
       "    </tr>\n",
       "    <tr>\n",
       "      <th>2278</th>\n",
       "      <td>2011-09-15 16:01:09.875</td>\n",
       "      <td>518.795000</td>\n",
       "      <td>1</td>\n",
       "      <td>-12.375</td>\n",
       "      <td>0.0</td>\n",
       "      <td>0.0</td>\n",
       "      <td>0.0</td>\n",
       "      <td>0.0</td>\n",
       "      <td>0.000</td>\n",
       "      <td>69.0000</td>\n",
       "      <td>...</td>\n",
       "      <td>178.0</td>\n",
       "      <td>0.0</td>\n",
       "      <td>0.0</td>\n",
       "      <td>0.0</td>\n",
       "      <td>0.0</td>\n",
       "      <td>0.0</td>\n",
       "      <td>0.0</td>\n",
       "      <td>4608.02</td>\n",
       "      <td>0.15</td>\n",
       "      <td>taxi</td>\n",
       "    </tr>\n",
       "    <tr>\n",
       "      <th>2279</th>\n",
       "      <td>2011-09-15 16:01:12.375</td>\n",
       "      <td>113.467000</td>\n",
       "      <td>1</td>\n",
       "      <td>-12.375</td>\n",
       "      <td>0.0</td>\n",
       "      <td>0.0</td>\n",
       "      <td>0.0</td>\n",
       "      <td>0.0</td>\n",
       "      <td>0.000</td>\n",
       "      <td>53.9055</td>\n",
       "      <td>...</td>\n",
       "      <td>178.0</td>\n",
       "      <td>0.0</td>\n",
       "      <td>0.0</td>\n",
       "      <td>0.0</td>\n",
       "      <td>0.0</td>\n",
       "      <td>0.0</td>\n",
       "      <td>0.0</td>\n",
       "      <td>0.00</td>\n",
       "      <td>0.15</td>\n",
       "      <td>taxi</td>\n",
       "    </tr>\n",
       "    <tr>\n",
       "      <th>2280</th>\n",
       "      <td>2011-09-15 16:01:14.875</td>\n",
       "      <td>540.191000</td>\n",
       "      <td>1</td>\n",
       "      <td>-12.375</td>\n",
       "      <td>0.0</td>\n",
       "      <td>0.0</td>\n",
       "      <td>0.0</td>\n",
       "      <td>0.0</td>\n",
       "      <td>0.000</td>\n",
       "      <td>10.7820</td>\n",
       "      <td>...</td>\n",
       "      <td>178.0</td>\n",
       "      <td>0.0</td>\n",
       "      <td>0.0</td>\n",
       "      <td>0.0</td>\n",
       "      <td>0.0</td>\n",
       "      <td>0.0</td>\n",
       "      <td>0.0</td>\n",
       "      <td>7679.84</td>\n",
       "      <td>0.15</td>\n",
       "      <td>taxi</td>\n",
       "    </tr>\n",
       "    <tr>\n",
       "      <th>2281</th>\n",
       "      <td>2011-09-15 16:01:17.375</td>\n",
       "      <td>321.570000</td>\n",
       "      <td>1</td>\n",
       "      <td>-12.375</td>\n",
       "      <td>0.0</td>\n",
       "      <td>0.0</td>\n",
       "      <td>0.0</td>\n",
       "      <td>0.0</td>\n",
       "      <td>0.000</td>\n",
       "      <td>32.3438</td>\n",
       "      <td>...</td>\n",
       "      <td>178.0</td>\n",
       "      <td>0.0</td>\n",
       "      <td>0.0</td>\n",
       "      <td>0.0</td>\n",
       "      <td>0.0</td>\n",
       "      <td>0.0</td>\n",
       "      <td>0.0</td>\n",
       "      <td>0.00</td>\n",
       "      <td>0.15</td>\n",
       "      <td>taxi</td>\n",
       "    </tr>\n",
       "    <tr>\n",
       "      <th>2282</th>\n",
       "      <td>2011-09-15 16:01:19.875</td>\n",
       "      <td>230.825000</td>\n",
       "      <td>1</td>\n",
       "      <td>-12.375</td>\n",
       "      <td>0.0</td>\n",
       "      <td>0.0</td>\n",
       "      <td>0.0</td>\n",
       "      <td>0.0</td>\n",
       "      <td>0.000</td>\n",
       "      <td>69.0000</td>\n",
       "      <td>...</td>\n",
       "      <td>178.0</td>\n",
       "      <td>0.0</td>\n",
       "      <td>0.0</td>\n",
       "      <td>0.0</td>\n",
       "      <td>0.0</td>\n",
       "      <td>0.0</td>\n",
       "      <td>0.0</td>\n",
       "      <td>0.00</td>\n",
       "      <td>0.15</td>\n",
       "      <td>taxi</td>\n",
       "    </tr>\n",
       "  </tbody>\n",
       "</table>\n",
       "<p>2283 rows × 27 columns</p>\n",
       "</div>"
      ],
      "text/plain": [
       "                           t     EGT_SEL  FLIGHT_MOD  FMV_SEL  HPTC_SEL  \\\n",
       "0    2011-09-15 14:26:02.875  335.984000           1    0.000       0.0   \n",
       "1    2011-09-15 14:26:05.375   72.000600           1    0.000       0.0   \n",
       "2    2011-09-15 14:26:07.875   72.001100           1    0.000       0.0   \n",
       "3    2011-09-15 14:26:10.375  527.978000           1    0.000       0.0   \n",
       "4    2011-09-15 14:26:12.875   -0.001335           1    0.000       0.0   \n",
       "...                      ...         ...         ...      ...       ...   \n",
       "2278 2011-09-15 16:01:09.875  518.795000           1  -12.375       0.0   \n",
       "2279 2011-09-15 16:01:12.375  113.467000           1  -12.375       0.0   \n",
       "2280 2011-09-15 16:01:14.875  540.191000           1  -12.375       0.0   \n",
       "2281 2011-09-15 16:01:17.375  321.570000           1  -12.375       0.0   \n",
       "2282 2011-09-15 16:01:19.875  230.825000           1  -12.375       0.0   \n",
       "\n",
       "      LPTC_SEL  N1_SEL  N2_ACTSEL    OIL_P  OIL_TEMP  ...  T3_SEL  VBV_SEL  \\\n",
       "0          0.0     0.0        0.0    0.000  177.3740  ...     0.0      0.0   \n",
       "1          0.0     0.0        0.0    0.000   68.0000  ...     0.0      0.0   \n",
       "2          0.0     0.0        0.0    0.000   68.0000  ...     0.0      0.0   \n",
       "3          0.0     0.0        0.0    0.000   68.0000  ...     0.0      0.0   \n",
       "4          0.0     0.0        0.0  456.002   44.6249  ...     0.0      0.0   \n",
       "...        ...     ...        ...      ...       ...  ...     ...      ...   \n",
       "2278       0.0     0.0        0.0    0.000   69.0000  ...   178.0      0.0   \n",
       "2279       0.0     0.0        0.0    0.000   53.9055  ...   178.0      0.0   \n",
       "2280       0.0     0.0        0.0    0.000   10.7820  ...   178.0      0.0   \n",
       "2281       0.0     0.0        0.0    0.000   32.3438  ...   178.0      0.0   \n",
       "2282       0.0     0.0        0.0    0.000   69.0000  ...   178.0      0.0   \n",
       "\n",
       "      VIB_CN1  VIB_CN2  VIB_TN1  VIB_TN2  VSV_SEL   WFM_SEL    XM  \\\n",
       "0         0.0      0.0      0.0      0.0      0.0   7679.84  0.15   \n",
       "1         0.0      0.0      0.0      0.0      0.0      0.00  0.15   \n",
       "2         0.0      0.0      0.0      0.0      0.0      0.00  0.15   \n",
       "3         0.0      0.0      0.0      0.0      0.0  10752.10  0.15   \n",
       "4         0.0      0.0      0.0      0.0      0.0      0.00  0.15   \n",
       "...       ...      ...      ...      ...      ...       ...   ...   \n",
       "2278      0.0      0.0      0.0      0.0      0.0   4608.02  0.15   \n",
       "2279      0.0      0.0      0.0      0.0      0.0      0.00  0.15   \n",
       "2280      0.0      0.0      0.0      0.0      0.0   7679.84  0.15   \n",
       "2281      0.0      0.0      0.0      0.0      0.0      0.00  0.15   \n",
       "2282      0.0      0.0      0.0      0.0      0.0      0.00  0.15   \n",
       "\n",
       "      FLIGHT_PHASE  \n",
       "0             taxi  \n",
       "1             taxi  \n",
       "2             taxi  \n",
       "3             taxi  \n",
       "4             taxi  \n",
       "...            ...  \n",
       "2278          taxi  \n",
       "2279          taxi  \n",
       "2280          taxi  \n",
       "2281          taxi  \n",
       "2282          taxi  \n",
       "\n",
       "[2283 rows x 27 columns]"
      ]
     },
     "execution_count": 60,
     "metadata": {},
     "output_type": "execute_result"
    }
   ],
   "source": [
    "\"\"\"\n",
    "EXERCICE - Correpondance FLIGHT_MOD/phase de vol\n",
    "1. Créez un liste définissant la correspondance FLIGHT_MOD/phase de vol\n",
    "2. Ajoutez une nouvelle colonne 'FLIGHT_PHASE' au DataFrame contenant le nom de la phase. Une possibilité est d'utiliser la méthode \"apply\" et une fonction anonyme (lambda).\n",
    "\"\"\"\n",
    "flight_mod_name = ['taxi','take_off', 'begin_climb', 'climb', 'cruise_climb', 'cruise', 'descent', 'approach', 'flare', 'landing']\n",
    "vol['FLIGHT_PHASE']  = vol.FLIGHT_MOD.apply(lambda x:flight_mod_name[x-1])\n",
    "vol"
   ]
  },
  {
   "cell_type": "code",
   "execution_count": 88,
   "id": "49630da7",
   "metadata": {},
   "outputs": [
    {
     "name": "stderr",
     "output_type": "stream",
     "text": [
      "/tmp/ipykernel_47313/561739656.py:5: FutureWarning: The 'axis' keyword in DataFrame.groupby is deprecated and will be removed in a future version.\n",
      "  number_of_step_by_phase = vol.groupby(vol['FLIGHT_PHASE'].values,axis = 0).size()\n"
     ]
    },
    {
     "data": {
      "text/plain": [
       "approach         57\n",
       "begin_climb     281\n",
       "climb            48\n",
       "cruise          788\n",
       "cruise_climb    335\n",
       "descent         550\n",
       "flare            16\n",
       "landing         120\n",
       "take_off         35\n",
       "taxi             53\n",
       "dtype: int64"
      ]
     },
     "execution_count": 88,
     "metadata": {},
     "output_type": "execute_result"
    }
   ],
   "source": [
    "\"\"\"\n",
    "EXERCICE - Calcul du nombre de lignes par phase de vol\n",
    "Groupez le DataFrame par phase de vol avec groupby() et aggrégez le résultat avec size().\n",
    "\"\"\"\n",
    "number_of_step_by_phase = vol.groupby(vol['FLIGHT_PHASE'].values,axis = 0).size()\n",
    "number_of_step_by_phase"
   ]
  },
  {
   "cell_type": "code",
   "execution_count": 97,
   "id": "0b08bc30",
   "metadata": {},
   "outputs": [
    {
     "data": {
      "text/plain": [
       "approach         142.5\n",
       "begin_climb      702.5\n",
       "climb            120.0\n",
       "cruise          1970.0\n",
       "cruise_climb     837.5\n",
       "descent         1375.0\n",
       "flare             40.0\n",
       "landing          300.0\n",
       "take_off          87.5\n",
       "taxi             132.5\n",
       "dtype: float64"
      ]
     },
     "execution_count": 97,
     "metadata": {},
     "output_type": "execute_result"
    }
   ],
   "source": [
    "dt = (vol['t'][1] - vol['t'][0]).total_seconds()\n",
    "\n",
    "time_by_phase = dt*number_of_step_by_phase\n",
    "time_by_phase"
   ]
  },
  {
   "cell_type": "markdown",
   "id": "0de5a38e",
   "metadata": {},
   "source": [
    "Voici enfin notre fameux bar plot :"
   ]
  },
  {
   "cell_type": "code",
   "execution_count": 100,
   "id": "1bf47fb1",
   "metadata": {},
   "outputs": [
    {
     "data": {
      "text/plain": [
       "Text(0.5, 0, 'phase of the flight')"
      ]
     },
     "execution_count": 100,
     "metadata": {},
     "output_type": "execute_result"
    },
    {
     "data": {
      "image/png": "[encoded data removed]",
      "text/plain": [
       "<Figure size 720x432 with 1 Axes>"
      ]
     },
     "metadata": {
      "needs_background": "light"
     },
     "output_type": "display_data"
    }
   ],
   "source": [
    "plt.figure(figsize=(10,6)) # la méthode figure permet de créer une nouvelle figure et de configurer ses paramètres\n",
    "plt.bar(np.arange(time_by_phase.size), time_by_phase, tick_label=time_by_phase.index.tolist())\n",
    "plt.ylabel('time(seconds)')\n",
    "plt.xlabel('phase of the flight')"
   ]
  },
  {
   "cell_type": "code",
   "execution_count": 106,
   "id": "c1f31b2a",
   "metadata": {},
   "outputs": [
    {
     "data": {
      "text/plain": [
       "Text(0.5, 0, 'phase of the flight')"
      ]
     },
     "execution_count": 106,
     "metadata": {},
     "output_type": "execute_result"
    },
    {
     "data": {
      "image/png": "[encoded data removed]",
      "text/plain": [
       "<Figure size 720x432 with 1 Axes>"
      ]
     },
     "metadata": {
      "needs_background": "light"
     },
     "output_type": "display_data"
    }
   ],
   "source": [
    "\"\"\"\n",
    "EXERCICE - Affichez la température T25 maximale par phase de vol sur un bar plot de couleur rouge.\n",
    "\"\"\"\n",
    "max_T25_by_phase = vol.T25_SEL.groupby(vol['FLIGHT_PHASE'].values).max()\n",
    "\n",
    "plt.figure(figsize=(10,6)) # la méthode figure permet de créer une nouvelle figure et de configurer ses paramètres\n",
    "plt.bar(np.arange((max_T25_by_phase).size), max_T25_by_phase, tick_label=max_T25_by_phase.index.tolist(), color='red')\n",
    "plt.ylabel('max of temperature T25(degrees)')\n",
    "plt.xlabel('phase of the flight')"
   ]
  },
  {
   "cell_type": "markdown",
   "id": "d003d457",
   "metadata": {},
   "source": [
    "### Pie plot : temps passé dans chaque phase de vol avec `plt.pie`"
   ]
  },
  {
   "cell_type": "code",
   "execution_count": 103,
   "id": "6846a9a4",
   "metadata": {},
   "outputs": [
    {
     "data": {
      "image/png": "[encoded data removed]",
      "text/plain": [
       "<Figure size 360x360 with 1 Axes>"
      ]
     },
     "metadata": {},
     "output_type": "display_data"
    }
   ],
   "source": [
    "plt.figure(figsize=(5,5))\n",
    "plt.pie(time_by_phase, labels=time_by_phase.index.tolist());"
   ]
  },
  {
   "cell_type": "markdown",
   "id": "5cd4d79a",
   "metadata": {},
   "source": [
    "### Histogramme : représenter la distribution d'une variable\n",
    "\n",
    "La meilleur façon de visualiser la distribution statistique d'une variable est l'histogramme. La méthode s'appelle `plt.hist()`. Étudiez sa documentation, car elle a de nombreux paramètres.\n",
    "\n",
    "Voici un exemple avec la variable N1."
   ]
  },
  {
   "cell_type": "code",
   "execution_count": 113,
   "id": "efada925",
   "metadata": {},
   "outputs": [
    {
     "data": {
      "image/png": "[encoded data removed]",
      "text/plain": [
       "<Figure size 1440x720 with 1 Axes>"
      ]
     },
     "metadata": {
      "needs_background": "light"
     },
     "output_type": "display_data"
    }
   ],
   "source": [
    "plt.hist(vol['N1_SEL'].values, bins=30, density=True); # Quel est l'effet de l'argument \"density=...\" ?"
   ]
  },
  {
   "cell_type": "markdown",
   "id": "a1423a61",
   "metadata": {},
   "source": [
    "Quel est l'effet de l'argument \"density=...\" ?\n",
    "\n",
    "- Si density = True, le programme estime la densité de probabilité : cela normaliste les valeurs pour obtenir une aire de 1 "
   ]
  },
  {
   "cell_type": "markdown",
   "id": "debb4b63",
   "metadata": {},
   "source": [
    "Beaucoup d'autres types de plots existents ! À vous de les découvrir...\n",
    "\n",
    "## 2. Machine Learning non supervisé pour l'exploration de données avec scikit-learn\n",
    "\n",
    "<img src=\"rc/scikit2.png\" />\n",
    "\n",
    "Dans cette section, on continue d'explorer le jeu de données à l'aide de techniques classique :\n",
    "\n",
    "* PCA (Principal Component Analysis, https://fr.wikipedia.org/wiki/Analyse_en_composantes_principales) : permet de trouver les composantes principales d'un jeu de données, correspondant aux directions orthogonales de plus grande variabilité des données. Ce directions correspondent aux vecteurs propres de la matrice de corrélation. En pratique, cette technique statistique permet de réduire la dimensionalité des données en les projectant sur les directions principales. En réduisant la dimensionalité à 2, on peut donc visualiser les données sur un plan.\n",
    "\n",
    "<img width=\"300px\" src=\"rc/PCA_fish.png\" />\n",
    "\n",
    "* $k$-means (https://fr.wikipedia.org/wiki/K-moyennes) est l'algorithme le plus répandu de _clustering_. Le clustering consiste à partitionner les données en différents groupes (appelés _clusters_), en maximisant la similarité _intra-cluster_ (entre les points d'un même cluster) et minimisant la similarité _inter-cluster_ (entre les points de clusters différents). Le clustering est aussi appelée classification _non supervisée_ (car on ne dispose pas d'étiquettes pour chaque classe).\n",
    "\n",
    "<img width=\"300px\" src=\"rc/cluster.png\" />\n",
    "\n",
    "Ces deux algorithmes incontournables permettent de décrire nos données et répondre aux questions suivantes :\n",
    "\n",
    "* Quel est la distribution des données dans le plan des 2 première CP (composantes principales) ?\n",
    "* Y a-t-il des groupes distincts dans nos données ?\n"
   ]
  },
  {
   "cell_type": "markdown",
   "id": "2db6210b",
   "metadata": {},
   "source": [
    "#### 2.1. Préparation des données\n",
    "\n",
    "Ces algorithmes requièrent des données numériques. Il faut donc éliminer du jeu de données les variables non numérique ou les transformer en variables numériques.\n",
    "\n",
    "De plus, on essayera dans la suite de classifier les instants du vol par phase de vol en utilisant un algorithme de clustering. On élimine donc également la colonne \"FLIGHT_MOD\" du jeu de données."
   ]
  },
  {
   "cell_type": "code",
   "execution_count": 136,
   "id": "c83aaaa1",
   "metadata": {},
   "outputs": [],
   "source": [
    "# change timestamp into total second considering time origin = vol.t[0]\n",
    "time_origin = vol.t[0]\n",
    "time = (vol.t - time_origin).to_numpy(dtype='float')/1e9\n",
    "vol['t'] = time"
   ]
  },
  {
   "cell_type": "code",
   "execution_count": 137,
   "id": "5cb632b7",
   "metadata": {},
   "outputs": [
    {
     "name": "stdout",
     "output_type": "stream",
     "text": [
      "t               float64\n",
      "EGT_SEL         float64\n",
      "FLIGHT_MOD        int64\n",
      "FMV_SEL         float64\n",
      "HPTC_SEL        float64\n",
      "LPTC_SEL        float64\n",
      "N1_SEL          float64\n",
      "N2_ACTSEL       float64\n",
      "OIL_P           float64\n",
      "OIL_TEMP        float64\n",
      "PS3_SEL         float64\n",
      "PT2_SEL         float64\n",
      "P0_SEL          float64\n",
      "TAT             float64\n",
      "TBV_SEL         float64\n",
      "TRA_SEL         float64\n",
      "T25_SEL         float64\n",
      "T3_SEL          float64\n",
      "VBV_SEL         float64\n",
      "VIB_CN1         float64\n",
      "VIB_CN2         float64\n",
      "VIB_TN1         float64\n",
      "VIB_TN2         float64\n",
      "VSV_SEL         float64\n",
      "WFM_SEL         float64\n",
      "XM              float64\n",
      "FLIGHT_PHASE     object\n",
      "dtype: object\n"
     ]
    },
    {
     "data": {
      "text/plain": [
       "array([[ 3.35984e+02,  0.00000e+00,  0.00000e+00, ...,  0.00000e+00,\n",
       "         7.67984e+03,  1.50000e-01],\n",
       "       [ 7.20006e+01,  0.00000e+00,  0.00000e+00, ...,  0.00000e+00,\n",
       "         0.00000e+00,  1.50000e-01],\n",
       "       [ 7.20011e+01,  0.00000e+00,  0.00000e+00, ...,  0.00000e+00,\n",
       "         0.00000e+00,  1.50000e-01],\n",
       "       ...,\n",
       "       [ 5.40191e+02, -1.23750e+01,  0.00000e+00, ...,  0.00000e+00,\n",
       "         7.67984e+03,  1.50000e-01],\n",
       "       [ 3.21570e+02, -1.23750e+01,  0.00000e+00, ...,  0.00000e+00,\n",
       "         0.00000e+00,  1.50000e-01],\n",
       "       [ 2.30825e+02, -1.23750e+01,  0.00000e+00, ...,  0.00000e+00,\n",
       "         0.00000e+00,  1.50000e-01]])"
      ]
     },
     "execution_count": 137,
     "metadata": {},
     "output_type": "execute_result"
    }
   ],
   "source": [
    "\"\"\"\n",
    "EXERCICE - Préparation des données\n",
    "1. Quelles sont les variables non numériques dans les données de vol ?\n",
    "2. Supprimez ces colonnes, ainsi que le FLIGHT_MOD, et créez une variable X_vol contenant les valeurs numériques sous forme d'array numpy (on y accède via la propriété `values`).\n",
    "3. Affichez les dimensions de X_vol (nombre d'individus et de variables).\n",
    "\"\"\"\n",
    "\n",
    "print(vol.dtypes)\n",
    "X_vol = vol.drop(columns=[\"FLIGHT_MOD\", \"FLIGHT_PHASE\", 't']).to_numpy()\n",
    "X_vol"
   ]
  },
  {
   "cell_type": "markdown",
   "id": "8544b60d",
   "metadata": {},
   "source": [
    "Ensuite, il est nécessaire en analyse de données de normaliser nos données, car les différentes variables peuvent avoir des unités et plages de valeurs très différentes les unes des autres. Par exemple, certaines variables varient entre 0 et 1, d'autre, comme les températures, peuvent varier (en gros) de 0 à 1000. Pour pouvoir les rendre comparables, on utilisera la normalisation standard suivante, appelée _standardisation_ :\n",
    "\n",
    "1. Retrait de la moyenne de chaque variable.\n",
    "2. Division par l'écart-type.\n",
    "\n",
    "Cela permet d'obtenir des variables de moyenne nulle et d'écart-type 1. Il existe bien entendu des normalisations bien plus poussées."
   ]
  },
  {
   "cell_type": "code",
   "execution_count": 151,
   "id": "d7b0c3fd",
   "metadata": {},
   "outputs": [],
   "source": [
    "\"\"\"\n",
    "EXERCICE - Standardisation\n",
    "1. Normalisez le jeu de donnée X_vol comme expliqué précédemment, et stockez le résultat dans une variable X_vol_norm.\n",
    "   Pour cela, utilisez les méthodes mean() et std() de numpy, en prenant garde à calculer selon les bonnes dimensions.\n",
    "2. Véfifiez à la fin que X_vol_norm a bien une moyenne nulle et un écart-type égal à 1 pour toutes les variables.\n",
    "3. Que renvoie `(X_vol_norm.mean(axis=0) == 0).all()` ? Pourquoi à votre avis ? Pour pailler à ce problème, documentez-vous et utilisez la méthode `np.isclose` de numpy \n",
    "   pour effectuer cette vérification.\n",
    "\"\"\"\n",
    "mean = np.mean(X_vol, axis = 0)\n",
    "std = np.std(X_vol, axis = 0)\n",
    "\n",
    "X_vol_norm = (X_vol-mean)/std"
   ]
  },
  {
   "cell_type": "code",
   "execution_count": 144,
   "id": "ad2dcf18",
   "metadata": {},
   "outputs": [
    {
     "name": "stdout",
     "output_type": "stream",
     "text": [
      "5.0834565706300056e-17\n",
      "1.0\n"
     ]
    }
   ],
   "source": [
    "#2 \n",
    "print(np.mean(X_vol_norm))\n",
    "print(np.std(X_vol_norm))"
   ]
  },
  {
   "cell_type": "code",
   "execution_count": 146,
   "id": "a6cbe047",
   "metadata": {},
   "outputs": [
    {
     "data": {
      "text/plain": [
       "False"
      ]
     },
     "execution_count": 146,
     "metadata": {},
     "output_type": "execute_result"
    }
   ],
   "source": [
    "#3 \n",
    "(X_vol_norm.mean(axis=0) == 0).all()"
   ]
  },
  {
   "cell_type": "markdown",
   "id": "0c77fd5c",
   "metadata": {},
   "source": [
    "Le résultat donne False, il s'agit du fait que la moyenne de vaut pas 0 pile mais est vaut l'erreur machine, le bon test aurait été :\n",
    "(X_vol_norm.mean(axis=0) < 1e-15).all()"
   ]
  },
  {
   "cell_type": "code",
   "execution_count": 148,
   "id": "daa6f72e",
   "metadata": {},
   "outputs": [
    {
     "data": {
      "text/plain": [
       "True"
      ]
     },
     "execution_count": 148,
     "metadata": {},
     "output_type": "execute_result"
    }
   ],
   "source": [
    "(np.isclose(X_vol_norm.mean(axis=0), 0, 1e-15).all())"
   ]
  },
  {
   "cell_type": "markdown",
   "id": "048ffc73",
   "metadata": {},
   "source": [
    "On ne ré-invente pas la roue : scikit-learn propose déjà un ensemble de méthodes de normalisation dans son module de prétraitement, `sklearn.preprocessing`."
   ]
  },
  {
   "cell_type": "code",
   "execution_count": 152,
   "id": "27b9d0d7",
   "metadata": {},
   "outputs": [],
   "source": [
    "from sklearn.preprocessing import StandardScaler\n",
    "X_vol_norm2 = StandardScaler().fit_transform(X_vol)"
   ]
  },
  {
   "cell_type": "code",
   "execution_count": 155,
   "id": "44574cb1",
   "metadata": {},
   "outputs": [
    {
     "name": "stdout",
     "output_type": "stream",
     "text": [
      "erreur machine test (cas d'egalite): False\n",
      "erreur machine test (method isclose) : True\n",
      "5.0834565706300056e-17\n",
      "1.0\n"
     ]
    }
   ],
   "source": [
    "\"\"\"\n",
    "EXERCICE - La résultat est-il bien identique ?\n",
    "\"\"\"\n",
    "#3 \n",
    "print(f'erreur machine test (cas d\\'egalite): {(X_vol_norm2.mean(axis=0) == 0).all()}')\n",
    "print(f'erreur machine test (method isclose) : {(np.isclose(X_vol_norm2.mean(axis=0), 0, 1e-15).all())}')\n",
    "# verification de la moyenne et de l'ecart type :\n",
    "print(np.mean(X_vol_norm2))\n",
    "print(np.std(X_vol_norm2))"
   ]
  },
  {
   "cell_type": "markdown",
   "id": "8307978e",
   "metadata": {},
   "source": [
    "On obtient les résultats identiques (ce qui n'est pas surprenant étant donné ce qui est attendu)."
   ]
  },
  {
   "cell_type": "markdown",
   "id": "7260cb97",
   "metadata": {},
   "source": [
    "#### 2.2. PCA"
   ]
  },
  {
   "cell_type": "code",
   "execution_count": 156,
   "id": "4b310dc7",
   "metadata": {},
   "outputs": [],
   "source": [
    "from sklearn.decomposition import PCA"
   ]
  },
  {
   "cell_type": "code",
   "execution_count": 157,
   "id": "081645ff",
   "metadata": {},
   "outputs": [],
   "source": [
    "vol_pca = PCA(n_components=2).fit(X_vol_norm)"
   ]
  },
  {
   "cell_type": "markdown",
   "id": "daea2ef1",
   "metadata": {},
   "source": [
    "#### 2.2.1. Étude de la variance expliquée\n",
    "\n",
    "Le modèle PCA permet d'obtenir la part de variance des données expliquée par les différentes CP. En général, on garde autant de CP que nécessaire pour expliquer au total par exemple 90% ou 95% de la variance des données, afin de limiter la perte d'information. Ici, on en conserve 2 pour des raisons de visualisation."
   ]
  },
  {
   "cell_type": "code",
   "execution_count": null,
   "id": "6f0ce93b",
   "metadata": {},
   "outputs": [],
   "source": [
    "\"\"\"\n",
    "EXERCICE - Étude de la variance expliquée\n",
    "1. Affichez les parts de variance expliquées par les 2 premières CP à l'aide de la propriété `explained_variance_ratio_` du modèle PCA. Faites varier le nombres de CP (3, 4... 25).\n",
    "   Affichez les résultats en %.\n",
    "2. Quel est le pourcentage de variance expliquée par les 2 premières CP ? Est-il cohérent de ne conserver que ces 2 dimensions ?\n",
    "   Combien de composantes faudrait-il garder pour expliquer 90% de la variance ? 95% ?\n",
    "3. Tracez un bar plot de la variance expliquée par chaque CP, en n'oubliant pas le titre, les noms des axes et les étiquettes sur l'axe des abscisses ('PC1', 'PC2', etc.).\n",
    "   Essayez avec une échelle logarithmique.\n",
    "\"\"\"\n"
   ]
  },
  {
   "cell_type": "markdown",
   "id": "1873fb69",
   "metadata": {},
   "source": [
    "#### 2.2.2. Projection et visualisation\n",
    "\n",
    "À présent, on projette les données sur les 2 premières CP pour les visualiser sur un scatter plot. La projection s'effectue :\n",
    "\n",
    "* par produit matriciel avec les composantes principales, contenues dans l'array `vol_pca.components_`\n",
    "* via la méthode `transform(...)` du modèle PCA"
   ]
  },
  {
   "cell_type": "code",
   "execution_count": null,
   "id": "12d73697",
   "metadata": {},
   "outputs": [],
   "source": [
    "\"\"\"\n",
    "EXERCICE - Projection et visualisation par PCA.\n",
    "1. Projettez les données sur les 2 premières CP.\n",
    "2. Affichez le résultat sur un scatter plot. Que représente chaque point ? Que représentent les axes ? \n",
    "3. Étant donné que notre jeu de données est une série temporelle, il serait intéressant de visualiser la trajectoire du vol dans le plan de la PCA.\n",
    "   Proposez et mettez en œuvre une solution permettant de visualiser cet aspect temporel sur le scatter plot.\n",
    "   \n",
    "\"\"\"\n"
   ]
  },
  {
   "cell_type": "markdown",
   "id": "fe7d44ef",
   "metadata": {},
   "source": [
    "Ressource utile : les color maps matplotlib https://matplotlib.org/users/colormaps.html"
   ]
  },
  {
   "cell_type": "code",
   "execution_count": null,
   "id": "1c6de3ac",
   "metadata": {},
   "outputs": [],
   "source": [
    "\"\"\"\n",
    "EXERCICE - Projection et visualisation par PCA avec affichage de la phase de vol.\n",
    "Complétez le code matplotlib suivant afin de de colorer les points par phase de vol, avec une légende.\n",
    "\"\"\"\n",
    "plt.figure(figsize=(10,10))\n",
    "for phase in phases:\n",
    "    data = ...\n",
    "    plt.scatter(data[:, 0], data[:, 1], label=phase)\n",
    "plt.legend()\n",
    "plt.xlabel('PC1')\n",
    "plt.ylabel('PC2')\n",
    "plt.title('Projection PCA du vol avec phases de vol')"
   ]
  },
  {
   "cell_type": "markdown",
   "id": "e4c55428",
   "metadata": {},
   "source": [
    "#### 2.3. $k$-means\n",
    "\n",
    "L'algorithme $k$-means est disponible dans le module `sklearn.clustering`, au côté d'autres algorithmes de clustering. "
   ]
  },
  {
   "cell_type": "code",
   "execution_count": null,
   "id": "3fc5ee11",
   "metadata": {},
   "outputs": [],
   "source": [
    "from sklearn.cluster import KMeans"
   ]
  },
  {
   "cell_type": "markdown",
   "id": "a4fda900",
   "metadata": {},
   "source": [
    "#### 2.3.1. Apprentissage et visualisation des résultats"
   ]
  },
  {
   "cell_type": "code",
   "execution_count": null,
   "id": "74658a80",
   "metadata": {},
   "outputs": [],
   "source": [
    "\"\"\"\n",
    "EXERCICE - k-means clustering\n",
    "1. Instanciez un modèle k-means avec 10 centroïdes.\n",
    "2. Apprenez le modèle sur le jeu de données `X_vol_norm` et récupérez les étiquettes des clusters via la méthode de prédiction.\n",
    "3. Créez une figure composée de 2 graphiques.\n",
    "   3.1. Sur le graphique 1, affichez le nombre d'éléments par cluster sur un bar plot (indice : la méthode `bincount` de nummy évitera d'écrire une boucle).\n",
    "   3.2. SUr le graphique 2, affichez un scatter plot de la projection PCA en colorant les points par cluster.\n",
    "4. Interprétez le résultat. Peut-on établir une correspondance entre les clusters trouvés par k-means et les phases de vol ?\n",
    "\"\"\"\n"
   ]
  },
  {
   "cell_type": "markdown",
   "id": "38c77f16",
   "metadata": {},
   "source": [
    "#### 2.3.2. Calcul de la pureté du clustering\n",
    "\n",
    "On souhaite maintenant répondre plus en détail à la question :\n",
    "    \n",
    "> Peut-on établir une correspondance entre les clusters trouvés par k-means et les phases de vol ?\n",
    "\n",
    "On commence par évaluer la capacité de notre modèle à trouver des clusters **homogènes par rapport à une variable cible**. Ici, notre variable cible sera la phase de vol. On cherche donc à mesurer si les clusters contiennent des points appartenant à une même phase de vol. Pour cela, on utilise un **indice de qualité de clustering** appelé **pureté** (_purity_). \n",
    "\n",
    "La pureté se calcule de la manière suivante :\n",
    "\n",
    "1. On associe à tous les points d'un cluster la classe (i.e. la variable cible) la plus fréquente au sein de ce cluster.\n",
    "2. On divise le nombre de points correctement associés à leur cluster par le nombre total de points.\n",
    "\n",
    "Pour un partitionnement $\\mathbf{Q} = \\{Q_k\\}, k = 1 \\ldots K$ et en notant $\\mathbf{Y} = \\{Y_j\\}, j = 1 \\ldots C$ l'ensemble des points appartenant à chaque classe, on a :\n",
    "\\begin{equation}\n",
    "    purity(\\mathbf{Q}, \\mathbf{Y}) = \\frac{1}{N} \\sum_{k=1}^K \\underset{j = 1 \\ldots C}{\\max} |Q_k \\cap Y_j|\n",
    "\\end{equation}"
   ]
  },
  {
   "cell_type": "code",
   "execution_count": null,
   "id": "b29486f2",
   "metadata": {},
   "outputs": [],
   "source": [
    "\"\"\"\n",
    "EXERCICE - Calcul de la pureté\n",
    "1. Implémentez une fonction calculant la pureté d'un clustering à partir des labels et des valeurs de la variable cible. \n",
    "2. Quelle la pureté du modèle avec 10 clusters ?\n",
    "\"\"\"\n",
    "def cluster_purity(labels, targets):\n",
    "    raise NotImplementedError\n",
    "\n",
    "pur = cluster_purity(...)\n",
    "print('Pureté : {:f} %'.format(pur*100))"
   ]
  },
  {
   "cell_type": "code",
   "execution_count": null,
   "id": "f3e145b3",
   "metadata": {},
   "outputs": [],
   "source": [
    "\"\"\"\n",
    "EXERCICE - Effet du nombre de clusters sur la pureté\n",
    "1. Faites varier le nombre de clusters de k-means. Quel est l'effet sur la pureté ?\n",
    "2. Tracez la pureté en fonction du nombre de clusters pour quelques valeurs de ce nombre (par exemple K=1, 2, 3, 5, 10, 20, 30, 50).\n",
    "3. Quelle est, à votre avis, la \"meilleure\" valeur de K ? Que peut-on en conclure ?\n",
    "\"\"\"\n"
   ]
  },
  {
   "cell_type": "markdown",
   "id": "9aaddb19",
   "metadata": {},
   "source": [
    "#### 2.3.3. Calcul de la précision de classification non supervisée (_unsupervised clustering accuracy_)\n",
    "\n",
    "Enfin, on souhaite évaluer la performance de notre modèle en tant que classificateur.\n",
    "\n",
    "**Note** : cette approche n'a de sens que si le nombre de clusters est égal au nombre de classes de la variable cible !\n",
    "\n",
    "Pour ce faire, nous allons passer par une métrique appelée **unsupervised clustering accuracy**. Celle-ci correspond à la précision de classification (i.e. proportion de points correctement classifiés), mais dans un cadre non supervisé. Cette métrique mesure la capacité à partitionner les données selon les différentes modalités d'une variable cible. La question est donc de mesurer la capacité du modèle $k$-means à partitionner les données selon la phase de vol.\n",
    "\n",
    "Cette métrique s'écrit :\n",
    "\\begin{equation}\n",
    "    acc(\\mathbf{Q}, \\mathbf{Y}) = \\frac{1}{N} \\underset{m}\\max \\sum_{k=1}^K |Q_k \\cap Y_{m(k)}|\n",
    "\\end{equation}\n",
    "\n",
    "où on cherche la meilleure association $m$ (_mapping_) deux à deux entre clusters et classes (dans notre cas, l'association entre Cluster 0, Cluster 1, etc. et les phases de vol taxi, take_off, etc.).\n",
    "\n",
    "Pour calculer cette meilleur association, un algorithme efficace est la _méthode Hongroise_ ou algorithme de Kuhn-Munkres. Celui-ci est disponible dans le module de scipy `scipy.optimize.linear_sum_assignment`."
   ]
  },
  {
   "cell_type": "code",
   "execution_count": null,
   "id": "91c3d685",
   "metadata": {},
   "outputs": [],
   "source": [
    "from scipy.optimize import linear_sum_assignment"
   ]
  },
  {
   "cell_type": "code",
   "execution_count": null,
   "id": "4df64779",
   "metadata": {},
   "outputs": [],
   "source": [
    "def cluster_acc(labels, targets):\n",
    "    assert labels.size == targets.size\n",
    "    D = max(labels.max(), targets.max()) + 1\n",
    "    w = np.zeros((D, D))\n",
    "    for i in range(labels.size):\n",
    "        w[labels[i], targets[i]] += 1\n",
    "    row_ind, col_ind = linear_sum_assignment(w.max() - w)\n",
    "    return w[row_ind, col_ind].sum() * 1.0 / labels.size\n",
    "\n",
    "acc = cluster_acc(labels, vol['FLIGHT_MOD'])\n",
    "print('Accuracy : {:f} %'.format(acc*100))"
   ]
  },
  {
   "cell_type": "markdown",
   "id": "19de3209",
   "metadata": {},
   "source": [
    "#### Test Khi-2\n",
    "\n",
    "Découvrir la library scipy pour effectuer le test de chi-deux d'indépendance des variables dans un tableau de contingence.\n",
    "\n",
    "https://docs.scipy.org/doc/scipy/reference/generated/scipy.stats.chi2_contingency.html\n",
    "\n",
    "scipy.stats.chi2_contingency : fonction permet de calculer le score de khi-2 et la p-value pour le test d'hypothèse d'indépendance des fréquences observées. "
   ]
  }
 ],
 "metadata": {
  "kernelspec": {
   "display_name": "Python 3 (ipykernel)",
   "language": "python",
   "name": "python3"
  },
  "language_info": {
   "codemirror_mode": {
    "name": "ipython",
    "version": 3
   },
   "file_extension": ".py",
   "mimetype": "text/x-python",
   "name": "python",
   "nbconvert_exporter": "python",
   "pygments_lexer": "ipython3",
   "version": "3.10.12"
  }
 },
 "nbformat": 4,
 "nbformat_minor": 5
}
